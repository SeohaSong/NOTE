{
 "cells": [
  {
   "cell_type": "markdown",
   "metadata": {},
   "source": [
    "# List global files"
   ]
  },
  {
   "cell_type": "markdown",
   "metadata": {},
   "source": [
    "### Operation"
   ]
  },
  {
   "cell_type": "code",
   "execution_count": 2,
   "metadata": {},
   "outputs": [
    {
     "data": {
      "text/plain": [
       "['./Speed checker.ipynb',\n",
       " './Tensorflow example.ipynb',\n",
       " './Fibonacci tensorflow.ipynb',\n",
       " './directory handler.ipynb',\n",
       " './Python recursive and lambda.ipynb',\n",
       " './img/4.png',\n",
       " './img/5.png',\n",
       " './img/2.png',\n",
       " './img/3.png',\n",
       " './img/1.png',\n",
       " './Personal Reaserch.ipynb',\n",
       " './Python memory resaearch.ipynb',\n",
       " './img2/1.png',\n",
       " './.ipynb_checkpoints/Personal Reaserch-checkpoint.ipynb',\n",
       " './.ipynb_checkpoints/Speed checker-checkpoint.ipynb',\n",
       " './.ipynb_checkpoints/Fibonacci tensorflow-checkpoint.ipynb',\n",
       " './.ipynb_checkpoints/directory handler-checkpoint.ipynb',\n",
       " './.ipynb_checkpoints/Python recursive and lambda-checkpoint.ipynb',\n",
       " './.ipynb_checkpoints/Tensorflow example-checkpoint.ipynb',\n",
       " './.ipynb_checkpoints/Python memory resaearch-checkpoint.ipynb',\n",
       " './test_pickle']"
      ]
     },
     "execution_count": 2,
     "metadata": {},
     "output_type": "execute_result"
    }
   ],
   "source": [
    "import os\n",
    "\n",
    "def get_global_filepaths(root_dir):\n",
    "    ls = os.listdir(root_dir)\n",
    "    paths = [os.path.join(root_dir, c) for c in ls]\n",
    "    filepaths = [[path] if os.path.isfile(path)\n",
    "                 else get_global_filepaths(path)\n",
    "                 for path in paths]\n",
    "    filepaths = sum(filepaths, [])\n",
    "    return filepaths\n",
    "\n",
    "get_global_filepaths(\".\")"
   ]
  },
  {
   "cell_type": "markdown",
   "metadata": {},
   "source": [
    "### Test case generater"
   ]
  },
  {
   "cell_type": "code",
   "execution_count": null,
   "metadata": {},
   "outputs": [],
   "source": []
  }
 ],
 "metadata": {
  "kernelspec": {
   "display_name": "Python 3",
   "language": "python",
   "name": "python3"
  },
  "language_info": {
   "codemirror_mode": {
    "name": "ipython",
    "version": 3
   },
   "file_extension": ".py",
   "mimetype": "text/x-python",
   "name": "python",
   "nbconvert_exporter": "python",
   "pygments_lexer": "ipython3",
   "version": "3.6.4"
  }
 },
 "nbformat": 4,
 "nbformat_minor": 2
}
