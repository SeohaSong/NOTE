{
 "cells": [
  {
   "cell_type": "markdown",
   "metadata": {},
   "source": [
    "# Quick sort"
   ]
  },
  {
   "cell_type": "code",
   "execution_count": null,
   "metadata": {},
   "outputs": [],
   "source": [
    "import numpy as np\n",
    "\n",
    "\n",
    "def quick_sort(a):\n",
    "\n",
    "    if len(a) < 2:\n",
    "        return a\n",
    "    \n",
    "    i, j, p = 1, len(a)-1, a[0]\n",
    "    while True:\n",
    "        if p >= a[i]:\n",
    "            i += 1\n",
    "        if p < a[j]:\n",
    "            j -= 1\n",
    "        if i > j:\n",
    "            a[0], a[j] = a[j], a[0]\n",
    "            break\n",
    "        if p < a[i] and p >= a[j]:\n",
    "            a[i], a[j] = a[j], a[i]\n",
    "\n",
    "    a1 = quick_sort(a[:j])\n",
    "    a2 = quick_sort(a[j+1:])\n",
    "    return [*a1, a[j], *a2]\n",
    "\n",
    "\n",
    "n = 1000000\n",
    "np.random.seed(1)\n",
    "a = [i//10 for i in range(n)]\n",
    "b = a.copy()\n",
    "np.random.shuffle(b)\n",
    "print(a == quick_sort(b))"
   ]
  },
  {
   "cell_type": "markdown",
   "metadata": {},
   "source": [
    "# Lambda"
   ]
  },
  {
   "cell_type": "code",
   "execution_count": null,
   "metadata": {},
   "outputs": [],
   "source": []
  }
 ],
 "metadata": {
  "kernelspec": {
   "display_name": "Python 3",
   "language": "python",
   "name": "python3"
  },
  "language_info": {
   "codemirror_mode": {
    "name": "ipython",
    "version": 3
   },
   "file_extension": ".py",
   "mimetype": "text/x-python",
   "name": "python",
   "nbconvert_exporter": "python",
   "pygments_lexer": "ipython3",
   "version": "3.6.4"
  }
 },
 "nbformat": 4,
 "nbformat_minor": 2
}
