{
 "cells": [
  {
   "cell_type": "markdown",
   "metadata": {},
   "source": [
    "# SSD\n",
    "\n",
    "\n",
    "## TinySSD\n",
    "\n",
    "> 인공지능으로 정의될 수 있는\n",
    "\n",
    "> a라는 기능을 수행하는 모델의 집합을 A라고 부르자.\n",
    "\n",
    "> A에 속하는 모델은 수도없이 많을 것이다.\n",
    "\n",
    "> 이중에 가장 효율적인 모델은 무엇일까?\n",
    "\n",
    "\n",
    "# Neural compression\n",
    "# Object detection\n",
    "# 압축\n",
    "\n",
    "> 이논문의 저자는 현대에 딥러닝이라는 기술이 주목받을 수 있는 주요 이유를 다음 두가지로 정리합니다.\n",
    "\n",
    "> - 컴퓨터의 계산능력의 발달 (GPU 가속컴퓨팅을 포함하여)\n",
    "> - 가용할 수 있는 메모리의 증가\n",
    "\n",
    "> 현재 만들어진 a라는 기능을 수행하기 위한 대부분의 모델들은\n",
    "\n",
    "> 성능 대비 더 적은 메모리, 더 적은 연산시간을 가지는 최적의 A'로 압축 될 수 있으며\n",
    "\n",
    "> 압축되어야 한다. (상용화를 위해서)\n",
    "\n",
    "![](img/3.png)\n",
    "\n",
    "# 상용화 예시\n",
    "\n",
    "> 딥러닝 기술이 잠재시장의 모든 소비자들에게 도달하기 위해서는,\n",
    "\n",
    "> 모바일 폰이나 IoT기기등 적은 가용 리소스와 높은 네트워크 의존성을 가지는 기기들에서\n",
    "\n",
    "> 모델이 효율적으로 운용되어야합니다. (스마트 폰, 드론 등..)\n",
    "\n",
    "> 이에 중점을 맞춘 모델중 유명한 것으로 YOLO나 SqueezeDet 등이 있습니다.\n",
    "\n",
    "\n",
    "# 논문에서 제시한 모델의 성능\n",
    "\n",
    "> VOC 2007 ([http://host.robots.ox.ac.uk/pascal/VOC/voc2007/](http://host.robots.ox.ac.uk/pascal/VOC/voc2007/))\n",
    "\n",
    "> YOLO보다 4.2퍼센트 높은 MAP\n",
    "\n",
    "> 2.3메가바이트의 모델 크기 (YOLO보다 23배 작은 크기)"
   ]
  },
  {
   "cell_type": "markdown",
   "metadata": {},
   "source": [
    "# Task \"a\": object detection\n",
    "\n",
    "> Object detection이 어떤 기능을 얼마나 수행해 줘야 하는지는 기준에 따라 다르지만, \n",
    "\n",
    "> 이 논문에서는 Object detection의 주요 조건으로 다음 두가지 기능을 명시합니다.\n",
    "> - Classification\n",
    "> - Localization\n",
    "\n",
    "## Classification\n",
    "![](img/1.png)\n",
    "\n",
    "## Localization\n",
    "![](img/2.png)\n",
    "\n",
    "## 정리\n",
    "![](img/0.png)"
   ]
  },
  {
   "cell_type": "markdown",
   "metadata": {},
   "source": [
    "# 모델 설명\n",
    "\n",
    "- 간단히 말해, SSD와 SqueezeNet두개의 개념을 합쳐서 만든 것이다.\n",
    "\n",
    "## SSD: Single Shot MultiBox Detector\n",
    "\n",
    "![](img/3.png)\n",
    "\n",
    "- 현재 sota FRCNN는 느리다.\n",
    "\n",
    "- bbox proposal을 뽑아내는 부분과 그 후처리를 생략.\n",
    "\n",
    "- 여러가지 크기의 feature map에 Conv layer 처리를 하고 합치는 방식을 사용.\n",
    "\n",
    "\n",
    "- YOLO 는 최종 특징맵에만 경계 박스와 클래스 정보가 있는데 비해 SSD 는 여러 레이어에 정보가 분산\n",
    "\n",
    "- class 수는 pascal voc 기준 background 포함 21개\n",
    "\n",
    "- +4 는 (x, y, w, h) bbox 데이터 의미\n",
    "\n",
    "- k x (Classes + 4) 형태인데 k 는 default box 개수(aspect ratio)를 의미\n",
    "\n",
    "![](img/4.png)\n",
    "\n",
    "38x38x(4x(Classes+4)) = 5776x(Classes+4) - conv4_3\n",
    "\n",
    "19x19x(6x(Classes+4)) = 2166x(Classes+4) - conv7\n",
    "\n",
    "10x10x(6x(Classes+4)) = 600x(Classes+4) - conv8_2\n",
    "\n",
    "5x 5x(6x(Classes+4)) = 150x(Classes+4) - conv9_2\n",
    "\n",
    "3x 3x(4x(Classes+4)) = 36x(Classes+4) - conv10_2\n",
    "\n",
    "1x 1x(4x(Classes+4)) = 4x(Classes+4) - conv11_2\n",
    "\n",
    "![](img/5.png)\n",
    "\n",
    "feature map을 여러 개의 크기로 만들어서, 큰 map에서는 작은 물체의 검출을, 작은 map에서는 큰 물체의 검출을 함.\n",
    "\n",
    "여러가지 미리 정의된 박스를 default box라 부름\n",
    "\n",
    "만약 6개를 이용한다면, 1:1, 1:1, 1:2, 2:1, 1:3, 3:1 식으로 사용함\n",
    "\n",
    "## default box가 3일 때는 다음 그림들 처럼 동작\n",
    "\n",
    "![](img/6.png)\n",
    "![](img/7.png)\n",
    "\n",
    "5x5x(3x(21+4)) 형태인데 21개에서는 softmax를 거쳐 21개의 probability를 뽑아냄.\n",
    "\n",
    "x, y, w, h 모두 bbox regr."
   ]
  },
  {
   "cell_type": "markdown",
   "metadata": {},
   "source": [
    "## NMS(non-maximum-suppression)\n",
    "![](img/8.png)\n",
    "## BBox reg\n",
    "![](img/9.png)"
   ]
  },
  {
   "cell_type": "markdown",
   "metadata": {},
   "source": [
    "## Result\n",
    "\n",
    "![](img/10.png)"
   ]
  },
  {
   "cell_type": "markdown",
   "metadata": {},
   "source": [
    "## QnA\n",
    "\n",
    "tisutoo@gmail.com"
   ]
  },
  {
   "cell_type": "code",
   "execution_count": null,
   "metadata": {},
   "outputs": [],
   "source": []
  },
  {
   "cell_type": "code",
   "execution_count": null,
   "metadata": {},
   "outputs": [],
   "source": []
  },
  {
   "cell_type": "code",
   "execution_count": null,
   "metadata": {},
   "outputs": [],
   "source": []
  },
  {
   "cell_type": "code",
   "execution_count": null,
   "metadata": {},
   "outputs": [],
   "source": []
  },
  {
   "cell_type": "code",
   "execution_count": null,
   "metadata": {},
   "outputs": [],
   "source": []
  },
  {
   "cell_type": "code",
   "execution_count": null,
   "metadata": {},
   "outputs": [],
   "source": []
  },
  {
   "cell_type": "markdown",
   "metadata": {},
   "source": [
    "출처\n",
    "- https://docs.google.com/presentation/d/1aeRvtKG21KHdD5lg6Hgyhx5rPq_ZOsGjG5rJ1HP7BbA/pub?start=false&loop=false&delayms=3000&slide=id.g137784ab86_4_4107"
   ]
  }
 ],
 "metadata": {
  "kernelspec": {
   "display_name": "Python 3",
   "language": "python",
   "name": "python3"
  },
  "language_info": {
   "codemirror_mode": {
    "name": "ipython",
    "version": 3
   },
   "file_extension": ".py",
   "mimetype": "text/x-python",
   "name": "python",
   "nbconvert_exporter": "python",
   "pygments_lexer": "ipython3",
   "version": "3.6.4"
  }
 },
 "nbformat": 4,
 "nbformat_minor": 2
}
