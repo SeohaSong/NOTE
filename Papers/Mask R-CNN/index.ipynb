{
 "cells": [
  {
   "cell_type": "code",
   "execution_count": 3,
   "metadata": {},
   "outputs": [
    {
     "data": {
      "text/html": [
       "\n",
       "<style>\n",
       "img[alt=\"image.png\"] {\n",
       "    max-width: 600px;\n",
       "    display: inline;\n",
       "}\n",
       "</style>"
      ],
      "text/plain": [
       "<IPython.core.display.HTML object>"
      ]
     },
     "metadata": {},
     "output_type": "display_data"
    }
   ],
   "source": [
    "%%html\n",
    "\n",
    "<style>\n",
    "img[alt=\"image.png\"] {\n",
    "    max-width: 600px;\n",
    "    display: inline;\n",
    "}\n",
    "</style>"
   ]
  },
  {
   "cell_type": "markdown",
   "metadata": {},
   "source": [
    "### What is the difference between classification, localization, detection and segmentation?\n",
    "\n",
    "![image.png](./img/1.png)\n",
    "[출처](https://leonardoaraujosantos.gitbooks.io/artificial-inteligence/content/object_localization_and_detection.html)\n",
    "\n",
    "### semantic segmentation\n",
    "![image.png](./img/5.jpeg)\n",
    "[출처](https://www.quora.com/What-does-the-term-semantic-segmentation-mean-in-the-context-of-Deep-Learning)\n",
    "\n",
    "> Our goal in this work is to develop a comparably enabling framework for instance segmentation.\n",
    "\n",
    "> *from Introduction*"
   ]
  },
  {
   "cell_type": "markdown",
   "metadata": {},
   "source": [
    "### To instance segmentation..\n",
    "\n",
    "![image.png](./img/6.png)\n",
    "\n",
    "- Can seperate\n",
    "- Cannot segment\n",
    "- **Faster R-CNN**\n",
    "\n",
    "![image.png](./img/7.png)\n",
    "\n",
    "- Cannot seperate\n",
    "- Can segment\n",
    "- **FCN**\n",
    "\n",
    "### Mask R-CNN = Faster R-CNN with FCN on RoIs\n",
    "\n",
    "> Faster R-CNN으로 만든 바운딩 박스에서 FCN을 수행하자.\n",
    "\n",
    "### 모델의 확장 과정\n",
    "\n",
    "1. R-CNN\n",
    "2. Fast R-CNN \n",
    "\n",
    "3-1. Faster R-CNN *from MS* (Region proposal)\n",
    "3-2. Fully convolutional networks\n",
    "\n",
    "4. Mask R-CNN *from FB*\n",
    "\n",
    "> 이전 모델인 Faster R-CNN에서, 약간의 계산비용(FCN)을 더해 더 나은 성능을 보여주자."
   ]
  },
  {
   "cell_type": "markdown",
   "metadata": {},
   "source": [
    "### Equivariant\n",
    "\n",
    "- Fully convolution Net (or Convolutions) is **Translation-equivariant**\n",
    "\n",
    "- Global pool layers or Fully connected is **Translation-invariant**\n",
    "\n",
    "![image.png](./img/2.png)\n",
    "Figure 1\n",
    "\n",
    "> Mask R-CNN, extends Faster R-CNN by adding a branch for predicting segmentation masks on each Region of Interest (RoI),\n",
    "\n",
    "> in parallel with the existing branch for classification and bounding box regression. (Figure 1)\n",
    "\n",
    "- RPN(Reigon proposal network)부분은 FCN (Global image에 대한)\n",
    "- Mask Branch 부분은 FCN (RoI에 대한)\n",
    "\n",
    "![image.png](./img/12.png)"
   ]
  },
  {
   "cell_type": "markdown",
   "metadata": {},
   "source": [
    "### Good dataset for Instance segmentation\n",
    "\n",
    "- COCO\n",
    "- Cityscapes"
   ]
  },
  {
   "cell_type": "markdown",
   "metadata": {},
   "source": [
    "### Mask\n",
    "\n",
    "> Our approach efficiently detects objects in an image while simultaneously generating a high-quality segmentation **mask** for each instance.\n",
    "\n",
    "> *from Abstract* \n",
    "\n",
    "# +\n",
    "\n",
    "![image.png](./img/4.png)\n",
    "![image.png](./img/10.png)\n",
    "\n",
    "![image.png](./img/8.png) (deconvolution)"
   ]
  },
  {
   "cell_type": "markdown",
   "metadata": {},
   "source": [
    "### Faster R-CNN + FCN\n",
    "\n",
    "- **Faster R-CNN**\n",
    "> 1. Classification\n",
    "> 2. Instance level RoI\n",
    "\n",
    "- **FCN**\n",
    "> - ~~Pixel level multi-classification => Per pixel softmax~~\n",
    "> - Pixel level binary classification => per pixel sigmoid\n",
    "\n",
    "- **Loss**\n",
    "\n",
    "L = L(from classification) + L(from bounding-box-regression) + L(from mask)\n",
    "> - L(from classification): Softmax cross entropy\n",
    "> - L(from bounding-box-regression): Regression\n",
    "> - L(from mask): Binary cross entropy\n",
    "\n",
    "![image.png](./img/11.png) (시멘틱 세그맨테이션에서 바이너리로 취급 - 물체의 마스킹을 따는 방법만 학습)"
   ]
  },
  {
   "cell_type": "markdown",
   "metadata": {},
   "source": [
    "### RoI pooling => RoI align\n",
    "\n",
    "- RoI Pooling\n",
    "\n",
    "![image.png](./img/3.png)\n",
    "![image.png](./img/13.png)\n",
    "![image.png](./img/14.png)\n",
    "![image.png](./img/15.png)\n",
    "![image.png](./img/16.png)\n",
    "\n",
    "- RoI Pooling\n",
    "\n",
    "![image.png](./img/3.png)\n",
    "![image.png](./img/17.png)(subcell)\n",
    "![image.png](./img/18.png)(align)\n",
    "\n",
    "### ???\n",
    "![image.png](./img/22.png)\n",
    "![image.png](./img/21.png)"
   ]
  },
  {
   "cell_type": "markdown",
   "metadata": {},
   "source": [
    "### Performance\n",
    "\n",
    "![image.png](./img/19.png)\n",
    "![image.png](./img/20.png)"
   ]
  },
  {
   "cell_type": "markdown",
   "metadata": {},
   "source": [
    "### Keypoint detection\n",
    "\n",
    "![image.png](./img/9.png)"
   ]
  },
  {
   "cell_type": "code",
   "execution_count": null,
   "metadata": {
    "collapsed": true
   },
   "outputs": [],
   "source": []
  },
  {
   "cell_type": "code",
   "execution_count": null,
   "metadata": {
    "collapsed": true
   },
   "outputs": [],
   "source": []
  },
  {
   "cell_type": "code",
   "execution_count": null,
   "metadata": {
    "collapsed": true
   },
   "outputs": [],
   "source": []
  },
  {
   "cell_type": "code",
   "execution_count": null,
   "metadata": {
    "collapsed": true
   },
   "outputs": [],
   "source": []
  },
  {
   "cell_type": "code",
   "execution_count": null,
   "metadata": {
    "collapsed": true
   },
   "outputs": [],
   "source": []
  },
  {
   "cell_type": "code",
   "execution_count": null,
   "metadata": {
    "collapsed": true
   },
   "outputs": [],
   "source": []
  },
  {
   "cell_type": "code",
   "execution_count": null,
   "metadata": {
    "collapsed": true
   },
   "outputs": [],
   "source": []
  },
  {
   "cell_type": "code",
   "execution_count": null,
   "metadata": {
    "collapsed": true
   },
   "outputs": [],
   "source": []
  },
  {
   "cell_type": "code",
   "execution_count": null,
   "metadata": {
    "collapsed": true
   },
   "outputs": [],
   "source": []
  },
  {
   "cell_type": "markdown",
   "metadata": {},
   "source": [
    "# 개인연구발표\n",
    "\n",
    "- 아이디어\n",
    "- 홈페이지\n",
    "- 논문리뷰\n",
    "- 해드리스브라우저"
   ]
  }
 ],
 "metadata": {
  "kernelspec": {
   "display_name": "Python [default]",
   "language": "python",
   "name": "python3"
  },
  "language_info": {
   "codemirror_mode": {
    "name": "ipython",
    "version": 3
   },
   "file_extension": ".py",
   "mimetype": "text/x-python",
   "name": "python",
   "nbconvert_exporter": "python",
   "pygments_lexer": "ipython3",
   "version": "3.6.3"
  }
 },
 "nbformat": 4,
 "nbformat_minor": 2
}
