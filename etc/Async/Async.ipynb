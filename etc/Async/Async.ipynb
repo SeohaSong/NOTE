{
 "cells": [
  {
   "cell_type": "markdown",
   "metadata": {},
   "source": [
    "### Stylesheet"
   ]
  },
  {
   "cell_type": "code",
   "execution_count": 5,
   "metadata": {},
   "outputs": [
    {
     "data": {
      "text/html": [
       "\n",
       "<style>\n",
       "img[alt=\"_\"]{\n",
       "    max-width: 500px;\n",
       "    display: inline-block;\n",
       "}\n",
       "</style>"
      ],
      "text/plain": [
       "<IPython.core.display.HTML object>"
      ]
     },
     "metadata": {},
     "output_type": "display_data"
    }
   ],
   "source": [
    "%%html\n",
    "\n",
    "<style>\n",
    "img[alt=\"_\"]{\n",
    "    max-width: 500px;\n",
    "    display: inline-block;\n",
    "}\n",
    "</style>"
   ]
  },
  {
   "cell_type": "markdown",
   "metadata": {},
   "source": [
    "### Packages"
   ]
  },
  {
   "cell_type": "code",
   "execution_count": 6,
   "metadata": {
    "collapsed": true
   },
   "outputs": [],
   "source": [
    "import time\n",
    "import asyncio\n",
    "import requests\n",
    "from multiprocessing import Process\n",
    "import os\n",
    "from Crypto.Hash import SHA256\n",
    "from base64 import b64encode, b64decode\n",
    "from multiprocessing import Pool\n",
    "from multiprocessing import Process, Queue\n",
    "\n",
    "try:\n",
    "    import websockets\n",
    "except:\n",
    "    !pip install websockets"
   ]
  },
  {
   "cell_type": "markdown",
   "metadata": {},
   "source": [
    "---\n",
    "\n",
    "# Python with Async\n",
    "\n",
    "### Note flow\n",
    "\n",
    "1. CPU-BOUND vs I/O-BOUND\n",
    "\n",
    "2. 파이썬-스레드-GIL\n",
    "\n",
    "3. 동기와 비동기\n",
    "\n",
    "4. 비동기와 멀티 프로세스\n",
    "\n",
    "5. 비동기 웹페이지 크롤링"
   ]
  },
  {
   "cell_type": "markdown",
   "metadata": {},
   "source": [
    "# 두 종류의 Task\n",
    "\n",
    "- CPU Bound\n",
    "\n",
    "> - CPU 자원을 사용하는 Task입니다.\n",
    "> - 속도가 빠릅니다.\n",
    "> - 파이썬 프로세스의 스레드에서 처리됩니다.\n",
    "> - javascript로 치면 v8엔진에서 처리되는 작업입니다.\n",
    "\n",
    "- I/O Bound\n",
    "\n",
    "> - Disk, network, Database의 Input/Output과 관련된 Task입니다.\n",
    "\n",
    "> 작업 환경 별 비용\n",
    "\n",
    "> ![_](img/3.png)\n",
    "> [출처](http://www.nextree.co.kr/p7292/)"
   ]
  },
  {
   "cell_type": "markdown",
   "metadata": {},
   "source": [
    "# 쓰레드와 GIL\n",
    "\n",
    "### 모두가 아는 사실\n",
    "\n",
    "- 파이썬 프로그램은 기본적으로 하나의 쓰레드(Single Thread)에서 실행됩니다.\n",
    "\n",
    "- 멀티 쓰레드에서 동작하도록 프로그래밍 해도, 전역 인터프리터 락킹(Global Interpreter Lock) 때문에 특정 시점에 하나의 파이썬 코드만을 실행하게 됩니다. \n",
    "\n",
    "### 어쩌면 새로운 사실\n",
    "\n",
    "- 하지만 사실 이는 파이썬만의 특징이 아닙니다. 자바스크립트 등을 포함한 대부분의 인터프리터 언어는 [여러 문제를 방지하기 위해](https://www.linux.co.kr/home2/board/bbs/board.php?bo_table=lecture&wr_id=1642&sca=1&sca2=32) 이처럼 싱글쓰레드로 동작하도록 설계되었습니다. 다만 이러한 구조를 언급하는 용어나 문화 등이 다를 뿐입니다.\n",
    "\n",
    "### GIL\n",
    "\n",
    "1. [출처](https://yinjae.wordpress.com/2012/04/02/python-thread/)\n",
    "\n",
    "> Lock의 detail함에 따라서 두 종류의 개념으로 설명을 하는데 coarse-grained-lock과 fine-grained-lock 이다. 말 그대로 coarse-grained-lock은 거친/굵은 개념의 lock으로 그냥 대충 크게 묶어서 lock을 설정하는것이고 fine-grained-lock은 반대로 lock을 아주 세밀히 나눠서 lock을 설정하는 개념이다. 위와 같은 개념으로 lock을 나눈다고 하였을 때, GIL은 coarse-grained-lock의 극단을 추구한 개념이다.\n",
    "\n",
    "2. [출처](https://yinjae.wordpress.com/2012/04/02/python-thread/)\n",
    "\n",
    "> - fine-grained-lock에 비해서 single thread일때 훨씬 빠르다.\n",
    "> - fine-grained-lock에 비해서 i/o bound program에 한해서 multi-thread 인 경우 더 빠를 수 있다.\n",
    "> - GIL은 blocking i/o call의 경우 해제되므로 성능에 영향을 미치지 않는다.\n",
    "> - fine-grained-lock에 비해서 C library를 사용하는 연산이 많은(compute-intensive) cpu bound program을 multi-thread로 돌리는 경우 더 빠를 수 있다.\n",
    "> - C와 포트란의 연산라이브러리를 사용할 때, GIL은 해제되므로 성능에 영향을 미치지 않는다.\n",
    "> - C extension을 쓰기에 용이하다.\n",
    "> - C extension에 의해서 GIL은 해제된다.\n",
    "> - C library의 wrapping이 용이하다.\n",
    "> - C library의 thread-safety를 고려하지 않아도 된다. GIL을 이용해서 lock을 잡고 돌리면 thread-safety에 상관없이 정상적으로 동작하게 된다.\n",
    "> - ### 따라서 결과적으로 python으로만 짜여진 CPU bound program의 경우에만 thread가 비효율적이라고 한다. \n",
    "\n",
    "3.\n",
    "\n",
    "> - 이는 표준으로 쓰고있는 CPython에 국한되는 이야기입니다. JPython(JAVA)이나 IronPython(C#)에서는 멀티쓰레드 병렬연산이 가능합니다."
   ]
  },
  {
   "cell_type": "markdown",
   "metadata": {},
   "source": [
    "# 비동기 방식과 I/O-Bound Task\n",
    "\n",
    "- GIL\n",
    "\n",
    "![_](img/6.png)\n",
    "[출처](http://highthroughput.org/wp/cb-1136/)\n",
    "\n",
    "- 멀티 쓰레드\n",
    "\n",
    "![_](img/4.png)\n",
    "[출처](http://www.nextree.co.kr/p7292/)\n",
    "\n",
    "- 비동기 방식\n",
    "\n",
    "![_](img/5.png)\n",
    "[출처](http://www.nextree.co.kr/p7292/)\n",
    "\n",
    "> 파이썬(또는 JavaScript)에서 I/O-Bound 작업에 대해서는 GIL이 잠시 해제됩니다. 이를 응용해 I/O-Bound 작업은 굳이 멀티쓰레드 방식이 아니더라도 병렬작업이 가능합니다.\n",
    "\n",
    "> ### 이경우 비동기 방식이 유용합니다."
   ]
  },
  {
   "cell_type": "markdown",
   "metadata": {},
   "source": [
    "# 비동기 방식에 대한 간단한 설명\n",
    "\n",
    "> 사실 구글링으로 비동기 공부를 하고 싶다면, 파이썬 보다는 자바스크립트를 기반으로 찾아보는게 훨씬 수월합니다.\n",
    "\n",
    "> 대부분의 파이썬 사용자들은 동기화 방식의 프로그래밍에 익숙하지만,\n",
    "\n",
    "> 자바스크립트는 웹의 상호작용을 위해 만들어 졌기 때문에 태생부터 비동기적 환경에서 발전한 언어입니다.\n",
    "\n",
    "> 다른 언어지만 비동기 프로그래밍 방식은 모두가 비슷합니다. (사실 여기 첨부된 사진 중 절반이, 그 출처가 nodejs 블로그입니다.)\n",
    "\n",
    "![_](img/9.png)\n",
    "[출처](https://opentutorials.org/course/2136/11884)\n",
    "\n",
    "![_](img/7.png)\n",
    "[출처](http://www.nextree.co.kr/p7292/)\n",
    "\n",
    "## 비동기 프로그래밍은 아래의 방법들로 이루어집니다\n",
    "\n",
    "### 1. 콜백\n",
    "![_](img/8.png)\n",
    "[출처](http://www.nextree.co.kr/p7292/)\n",
    "\n",
    "### 2. Promise\n",
    "![_](img/10.png)\n",
    "[출처](https://blogs.msdn.microsoft.com/windowsappdev/2013/06/11/all-about-promises-for-windows-store-apps-written-in-javascript/)"
   ]
  },
  {
   "cell_type": "markdown",
   "metadata": {},
   "source": [
    "# 예제코드를 통한 더 자세한 설명\n",
    "# Synchronous"
   ]
  },
  {
   "cell_type": "code",
   "execution_count": 57,
   "metadata": {},
   "outputs": [
    {
     "name": "stdout",
     "output_type": "stream",
     "text": [
      "run function for 100000\n",
      "Highest prime below 100000 is 99991\n",
      "run function for 10000\n",
      "Highest prime below 10000 is 9973\n",
      "run function for 1000\n",
      "Highest prime below 1000 is 997\n",
      "run function for 2\n",
      "2 is smallest prime\n",
      "1.919736623764038\n"
     ]
    }
   ],
   "source": [
    "def is_prime(x):\n",
    "    \n",
    "    return not any(x // i == x / i for i in range(2, x - 1))\n",
    "\n",
    "\n",
    "def highest_prime_below(x):\n",
    "    \n",
    "    print(\"run function for %d\" % x)\n",
    "    \n",
    "    for y in range(x-1, 1, -1):\n",
    "        if is_prime(y):\n",
    "            print(\"Highest prime below %d is %d\" % (x, y))\n",
    "            break\n",
    "        time.sleep(0.05)\n",
    "    else:\n",
    "        print(\"%d is smallest prime\" % x)\n",
    "    return None\n",
    "\n",
    "\n",
    "def main():\n",
    "    \n",
    "    start = time.time()\n",
    "    highest_prime_below(100000)\n",
    "    highest_prime_below(10000)\n",
    "    highest_prime_below(1000)\n",
    "    highest_prime_below(2)\n",
    "    print(time.time() - start)\n",
    "    \n",
    "    \n",
    "if __name__ == \"__main__\":\n",
    "    main()"
   ]
  },
  {
   "cell_type": "markdown",
   "metadata": {},
   "source": [
    "# Asynchronous"
   ]
  },
  {
   "cell_type": "code",
   "execution_count": 58,
   "metadata": {},
   "outputs": [
    {
     "name": "stdout",
     "output_type": "stream",
     "text": [
      "run function for 10000\n",
      "run function for 1000\n",
      "run function for 2\n",
      "2 is smallest prime\n",
      "run function for 100000\n",
      "Highest prime below 1000 is 997\n",
      "Highest prime below 100000 is 99991\n",
      "Highest prime below 10000 is 9973\n",
      "1.3685705661773682\n"
     ]
    }
   ],
   "source": [
    "async def highest_prime_below(x):\n",
    "\n",
    "    print(\"run function for %d\" % x)\n",
    "    \n",
    "    for y in range(x-1, 1, -1):\n",
    "        if is_prime(y):\n",
    "            print(\"Highest prime below %d is %d\" % (x, y))\n",
    "            break\n",
    "        await asyncio.sleep(0.05)\n",
    "    else:\n",
    "        print(\"%d is smallest prime\" % x)\n",
    "    return None\n",
    "\n",
    "\n",
    "async def main():\n",
    "    \n",
    "    start = time.time()\n",
    "    \n",
    "    await asyncio.wait([\n",
    "        highest_prime_below(100000),\n",
    "        highest_prime_below(10000),\n",
    "        highest_prime_below(1000),\n",
    "        highest_prime_below(2)])\n",
    "    \n",
    "    print(time.time() - start)\n",
    "    \n",
    "\n",
    "if __name__ == \"__main__\":\n",
    "\n",
    "    loop = asyncio.get_event_loop()\n",
    "    loop.run_until_complete(main())"
   ]
  },
  {
   "cell_type": "markdown",
   "metadata": {},
   "source": [
    "# CPU-BOUND EXAMPLE"
   ]
  },
  {
   "cell_type": "code",
   "execution_count": 59,
   "metadata": {
    "collapsed": true
   },
   "outputs": [],
   "source": [
    "N = 100000000\n",
    "D = 5\n",
    "\n",
    "def function(from_, to):\n",
    "    \n",
    "    print(sum(range(from_, to)))"
   ]
  },
  {
   "cell_type": "markdown",
   "metadata": {},
   "source": [
    "# 단순처리"
   ]
  },
  {
   "cell_type": "code",
   "execution_count": 60,
   "metadata": {},
   "outputs": [
    {
     "name": "stdout",
     "output_type": "stream",
     "text": [
      "199999990000000\n",
      "599999990000000\n",
      "999999990000000\n",
      "1399999990000000\n",
      "1799999990000000\n",
      "1.7600266933441162\n"
     ]
    }
   ],
   "source": [
    "start = time.time()\n",
    "dvs = [[N // D * i, N // D * (i + 1)] for i in range(D)]\n",
    "for dv in dvs:\n",
    "    function(*dv)\n",
    "print(time.time() - start)"
   ]
  },
  {
   "cell_type": "markdown",
   "metadata": {},
   "source": [
    "# 비동기처리"
   ]
  },
  {
   "cell_type": "code",
   "execution_count": 62,
   "metadata": {},
   "outputs": [
    {
     "name": "stdout",
     "output_type": "stream",
     "text": [
      "599999990000000999999990000000\n",
      "17999999900000001999999900000001399999990000000\n",
      "\n",
      "\n",
      "\n",
      "1.6208219528198242\n"
     ]
    }
   ],
   "source": [
    "async def each_get(from_, to):\n",
    "\n",
    "    await loop.run_in_executor(None, function, from_, to)\n",
    "\n",
    "    \n",
    "async def coget():\n",
    "    \n",
    "    dvs = [[N // D * i, N // D * (i + 1)] for i in range(D)]\n",
    "    await asyncio.gather(*[each_get(*dv) for dv in dvs])\n",
    "    \n",
    "start = time.time()\n",
    "loop = asyncio.get_event_loop()\n",
    "loop.run_until_complete(coget())\n",
    "record = time.time() - start\n",
    "time.sleep(2)\n",
    "print(record)"
   ]
  },
  {
   "cell_type": "markdown",
   "metadata": {},
   "source": [
    "# I/O-BOUND EXAMPLE"
   ]
  },
  {
   "cell_type": "markdown",
   "metadata": {},
   "source": [
    "### Network case"
   ]
  },
  {
   "cell_type": "code",
   "execution_count": 63,
   "metadata": {
    "collapsed": true
   },
   "outputs": [],
   "source": [
    "N = 4\n",
    "\n",
    "def FUNCTION(start):\n",
    "    requests.get(\"https://sites.google.com/a/chromium.org/chromedriver/getting-started\")\n",
    "    print(time.time() - start)"
   ]
  },
  {
   "cell_type": "markdown",
   "metadata": {},
   "source": [
    "### Disk case"
   ]
  },
  {
   "cell_type": "code",
   "execution_count": 40,
   "metadata": {
    "collapsed": true
   },
   "outputs": [],
   "source": [
    "N = 4\n",
    "MB = 500\n",
    "\n",
    "with open(\"./js/data\", \"wb\") as f:\n",
    "    f.write(b\"\\x00\" * 1000 * 1000 * MB)\n",
    "\n",
    "def FUNCTION(start):\n",
    "    with open(\"./js/data\") as f:\n",
    "        print(time.time() - start)"
   ]
  },
  {
   "cell_type": "markdown",
   "metadata": {},
   "source": [
    "# 단순처리"
   ]
  },
  {
   "cell_type": "code",
   "execution_count": 53,
   "metadata": {},
   "outputs": [
    {
     "name": "stdout",
     "output_type": "stream",
     "text": [
      "1.750410795211792\n",
      "1.9228851795196533\n",
      "2.1076250076293945\n",
      "4.762524366378784\n"
     ]
    }
   ],
   "source": [
    "if __name__ == \"__main__\":\n",
    "\n",
    "    start = time.time()\n",
    "    for _ in range(N):\n",
    "        FUNCTION(start)"
   ]
  },
  {
   "cell_type": "markdown",
   "metadata": {},
   "source": [
    "# 비동기처리"
   ]
  },
  {
   "cell_type": "code",
   "execution_count": 56,
   "metadata": {},
   "outputs": [
    {
     "name": "stdout",
     "output_type": "stream",
     "text": [
      "1.0566723346710205\n",
      "1.06704831123352051.0675597190856934\n",
      "\n",
      "1.1320886611938477\n"
     ]
    }
   ],
   "source": [
    "async def each_get():\n",
    "\n",
    "    await loop.run_in_executor(None, FUNCTION, start)\n",
    "\n",
    "    \n",
    "async def coget():\n",
    "    \n",
    "    await asyncio.wait([each_get() for _ in range(N)])\n",
    "    \n",
    "\n",
    "if __name__ == \"__main__\":\n",
    "\n",
    "    start = time.time()\n",
    "    loop = asyncio.get_event_loop()\n",
    "    loop.run_until_complete(coget())"
   ]
  },
  {
   "cell_type": "markdown",
   "metadata": {},
   "source": [
    "# 비동기 프로그래밍이 산업에서 이용되는 구체적 예시\n",
    "# Chatting Server"
   ]
  },
  {
   "cell_type": "code",
   "execution_count": null,
   "metadata": {
    "collapsed": true
   },
   "outputs": [],
   "source": [
    "async def handler(websocket, path):\n",
    "\n",
    "    global connected\n",
    "    connected.add(websocket)\n",
    "    n_of_con = len(connected)\n",
    "    \n",
    "    while True:\n",
    "        await asyncio.sleep(2)\n",
    "        if len(connected) == n_of_con:\n",
    "            for ws in connected:\n",
    "                try:\n",
    "                    message = str(len(connected))\n",
    "                    await ws.send(message)\n",
    "                except:\n",
    "                    pass\n",
    "            \n",
    "\n",
    "if __name__ == \"__main__\":\n",
    "\n",
    "    connected = set()\n",
    "    loop = asyncio.get_event_loop()\n",
    "    loop.run_until_complete(\n",
    "        websockets.serve(handler, '0.0.0.0', 5678))\n",
    "    loop.run_forever()"
   ]
  },
  {
   "cell_type": "markdown",
   "metadata": {
    "collapsed": true
   },
   "source": [
    "# 비동기 프로그래밍을 알고 난 후 확인해보는 멀티프로세스\n",
    "# 윈도우에서는 주피터(REPL)가 아닌 스크립트로 돌려야 합니다!\n",
    "![](img/11.png)"
   ]
  },
  {
   "cell_type": "markdown",
   "metadata": {},
   "source": [
    "# 프로세스란\n",
    "\n",
    "- 하나의 CPU 즉 프로세서는 한 순간에 하나의 프로세스만 실행할 수 있습니다. (CPU 코어당 한개씩)\n",
    "\n",
    "- 하지만 트릭으로 여러개 프로세스를 동시에 구동합니다. ([이부분은 운영체제 전문가에게 문의하세요.](http://bowbowbow.tistory.com/16))\n",
    "\n",
    "- 따라서 진정한(순수한) 병렬성으로 얻을 수 있는 이득은 {(코어 개수) * (1 - 부가적비용)} 만큼입니다."
   ]
  },
  {
   "cell_type": "markdown",
   "metadata": {},
   "source": [
    "![_](img/1.png)"
   ]
  },
  {
   "cell_type": "code",
   "execution_count": 66,
   "metadata": {},
   "outputs": [
    {
     "name": "stdout",
     "output_type": "stream",
     "text": [
      "  PID TTY          TIME CMD\r\n",
      "   71 pts/1    00:00:00 sh\r\n",
      "   72 pts/1    00:00:00 ps\r\n"
     ]
    }
   ],
   "source": [
    "!ps"
   ]
  },
  {
   "cell_type": "code",
   "execution_count": 67,
   "metadata": {},
   "outputs": [
    {
     "name": "stdout",
     "output_type": "stream",
     "text": [
      "parent process: 20 | process id: 73\n",
      "parent process: 20 | process id: 75\n",
      "parent process: 20 | process id: 74\n",
      "parent process: 20 | process id: 76\n",
      "1.1049268245697021\n"
     ]
    }
   ],
   "source": [
    "def GO(N, D):\n",
    "\n",
    "    list(range(N // D))\n",
    "    print(\"parent process: {} | process id: {}\".format(os.getppid(), os.getpid()))\n",
    "    \n",
    "    \n",
    "if __name__=='__main__':\n",
    "\n",
    "    N = 100000000\n",
    "    D = os.cpu_count()\n",
    "    \n",
    "    start = time.time()\n",
    "\n",
    "    processes = []\n",
    "\n",
    "    for i in range(D):\n",
    "        proc = Process(target=GO, args=(N, D))\n",
    "        processes.append(proc)\n",
    "    \n",
    "    for proc in processes:\n",
    "        proc.start()\n",
    "    \n",
    "    for proc in processes:\n",
    "        proc.join()\n",
    "        \n",
    "    print(time.time() - start)"
   ]
  },
  {
   "cell_type": "code",
   "execution_count": 68,
   "metadata": {},
   "outputs": [
    {
     "name": "stdout",
     "output_type": "stream",
     "text": [
      "  PID TTY          TIME CMD\r\n",
      "   85 pts/1    00:00:00 sh\r\n",
      "   86 pts/1    00:00:00 ps\r\n"
     ]
    }
   ],
   "source": [
    "!ps"
   ]
  },
  {
   "cell_type": "markdown",
   "metadata": {},
   "source": [
    "# 메모리를 공유하는 하나의 풀에서 멀티 프로세스를 수행할 수 있습니다\n",
    "\n",
    "# Pool"
   ]
  },
  {
   "cell_type": "code",
   "execution_count": null,
   "metadata": {
    "collapsed": true
   },
   "outputs": [],
   "source": [
    "def f(x):\n",
    "    \n",
    "    print(\"process id: {} | value: {}\".format(os.getpid(), x))\n",
    "    return os.getpid()\n",
    "\n",
    "\n",
    "if __name__ == '__main__':\n",
    "        \n",
    "    D = os.cpu_count()\n",
    "    \n",
    "    with Pool(D) as p:\n",
    "        print(set(p.map(f, range(8))))"
   ]
  },
  {
   "cell_type": "markdown",
   "metadata": {},
   "source": [
    "# 큐를 만들어 그 큐를 통해 프로세스끼리 자원을 공유할 수 있습니다.\n",
    "\n",
    "# Queue"
   ]
  },
  {
   "cell_type": "code",
   "execution_count": 14,
   "metadata": {},
   "outputs": [
    {
     "name": "stdout",
     "output_type": "stream",
     "text": [
      "[0, 1, 2, 3, 4, 5, 6, 7, 8, 9]\n",
      "[10, 11, 12, 13, 14, 15, 16, 17, 18, 19]\n"
     ]
    }
   ],
   "source": [
    "def f1(q):\n",
    "    \n",
    "    data = list(range(10))\n",
    "    q.put(data)\n",
    "\n",
    "    \n",
    "def f2(q):\n",
    "    \n",
    "    data = list(range(10, 20))\n",
    "    data = q.put(data)\n",
    "\n",
    "    \n",
    "    \n",
    "if __name__ == '__main__':\n",
    "    \n",
    "    q = Queue()\n",
    "    \n",
    "    p1 = Process(target=f1, args=(q,))\n",
    "    p2 = Process(target=f2, args=(q,))\n",
    "    p1.start()\n",
    "    p2.start()\n",
    "\n",
    "    p1.join()\n",
    "    p2.join()\n",
    "    \n",
    "    print(q.get())\n",
    "    print(q.get())"
   ]
  },
  {
   "cell_type": "markdown",
   "metadata": {},
   "source": [
    "# 이 영상 추천합니다!\n",
    "# https://vimeo.com/96425312\n",
    "\n",
    "![](img/12.png)"
   ]
  },
  {
   "cell_type": "markdown",
   "metadata": {},
   "source": [
    "# 효과적인 웹 크롤링을 위한 꿀팁들\n",
    "# 1. 암호화"
   ]
  },
  {
   "cell_type": "code",
   "execution_count": 14,
   "metadata": {},
   "outputs": [
    {
     "name": "stdout",
     "output_type": "stream",
     "text": [
      "암호화된값:  29de565b5a62403b46790bac6efeb40a8f1f2161b03cd23b2fbdeeb96abd72d4\n",
      "\n",
      "쿠키값:  MjlkZTU2NWI1YTYyNDAzYjQ2NzkwYmFjNmVmZWI0MGE4ZjFmMjE2MWIwM2NkMjNiMmZiZGVlYjk2YWJkNzJkNA==\n",
      "\n",
      "쿠키값디코딩:  29de565b5a62403b46790bac6efeb40a8f1f2161b03cd23b2fbdeeb96abd72d4\n"
     ]
    }
   ],
   "source": [
    "if __name__ == \"__main__\":\n",
    "\n",
    "    hashing = SHA256.new()\n",
    "    hashing.update(b'seohasong')\n",
    "\n",
    "    암호화된값 = hashing.hexdigest()\n",
    "    쿠키값 = b64encode(암호화된값.encode(\"utf-8\")).decode(\"utf-8\")\n",
    "    쿠키값디코딩 = b64decode(쿠키값).decode(\"utf-8\")\n",
    "    \n",
    "    print(\"암호화된값: \", 암호화된값)\n",
    "    print()\n",
    "    print(\"쿠키값: \", 쿠키값)\n",
    "    print()\n",
    "    print(\"쿠키값디코딩: \", 쿠키값디코딩)"
   ]
  },
  {
   "cell_type": "markdown",
   "metadata": {},
   "source": [
    "# 2. 세션 탈취\n",
    "\n",
    "![_](img/2.png)"
   ]
  },
  {
   "cell_type": "code",
   "execution_count": 15,
   "metadata": {},
   "outputs": [
    {
     "name": "stdout",
     "output_type": "stream",
     "text": [
      "json_data:  {\"code\":200,\"data\":{\"id\":\"tisutoo\",\"sc_id\":\"ku\",\"sc_email\":\"tisutoo\",\"phone_number\":null,\"coffee_bean\":0,\"points\":10,\"evaluation_count\":24,\"note_count\":0,\"purchase_note_count\":0,\"facebook\":null,\"google\":null,\"read_lec_eval_authority\":true}}\n",
      "\n",
      "쿠키값디코딩:  {\"iv\":\"gxnCRaE+l0lm7r9QSE0BvA==\",\"value\":\"RaogFKviVLg+381CE9wykt1OEMAKHzuu+1ykoJLufeZgM\\/Bi2m9kPemdkFqgFM4xON1Y35MJyNAZ6125EceylaR4BhIaSPInir+R+iMmj6U=\",\"mac\":\"5cb3b91a57d815f2b190c7edad0cc2110e05bc1849fad11356a15fad33b36740\"}\n"
     ]
    }
   ],
   "source": [
    "cookie = \"remember_web_59ba36addc2b2f9401580f014c7f58ea4e30989d=eyJpdiI6Imd4bkNSYUUrbDBsbTdyOVFTRTBCdkE9PSIsInZhbHVlIjoiUmFvZ0ZLdmlWTGcrMzgxQ0U5d3lrdDFPRU1BS0h6dXUrMXlrb0pMdWZlWmdNXC9CaTJtOWtQZW1ka0ZxZ0ZNNHhPTjFZMzVNSnlOQVo2MTI1RWNleWxhUjRCaElhU1BJbmlyK1IraU1tajZVPSIsIm1hYyI6IjVjYjNiOTFhNTdkODE1ZjJiMTkwYzdlZGFkMGNjMjExMGUwNWJjMTg0OWZhZDExMzU2YTE1ZmFkMzNiMzY3NDAifQ\"\n",
    "\n",
    "headers = {\n",
    "    \"Cookie\": cookie\n",
    "}\n",
    "\n",
    "json_data = requests.get(\"https://api.klue.kr/info/mypage\", headers=headers).text\n",
    "쿠키값디코딩 = b64decode(cookie.split(\"=\")[-1] + \"==\").decode(\"utf-8\")\n",
    "\n",
    "print(\"json_data: \", json_data)\n",
    "print()\n",
    "print(\"쿠키값디코딩: \", 쿠키값디코딩)"
   ]
  },
  {
   "cell_type": "markdown",
   "metadata": {},
   "source": [
    "# 3. Headless Chrome\n",
    "\n",
    "[고려대학교 강의평가 사이트는 SPA로 만들어져 있습니다.](https://klue.kr/) 이 사이트를 다음과 같은 간단한 코드로 크롤링할 수 있습니다.\n",
    "\n",
    "```bash\n",
    "# alias chrome=\"/Applications/Google\\ Chrome.app/Contents/MacOS/Google\\ Chrome\"\n",
    "chrome --headless --disable-gpu --dump-dom https://klue.kr/ > index.html\n",
    "(sleep 5; rm -rf index.html) & (chrome http://localhost:1111; python -m SimpleHTTPServer 1111)\n",
    ";\n",
    "```"
   ]
  },
  {
   "cell_type": "markdown",
   "metadata": {},
   "source": [
    "# 세션 탈취 + Selenium Webdriver + Headless Chrome == 무적의 크롤러\n",
    "\n",
    "- https://sites.google.com/a/chromium.org/chromedriver/getting-started"
   ]
  }
 ],
 "metadata": {
  "kernelspec": {
   "display_name": "Python 3",
   "language": "python",
   "name": "python3"
  },
  "language_info": {
   "codemirror_mode": {
    "name": "ipython",
    "version": 3
   },
   "file_extension": ".py",
   "mimetype": "text/x-python",
   "name": "python",
   "nbconvert_exporter": "python",
   "pygments_lexer": "ipython3",
   "version": "3.6.3"
  }
 },
 "nbformat": 4,
 "nbformat_minor": 2
}
