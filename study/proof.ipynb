{
 "cells": [
  {
   "cell_type": "markdown",
   "metadata": {},
   "source": [
    "# 수정해야함"
   ]
  },
  {
   "cell_type": "markdown",
   "metadata": {},
   "source": [
    "## $f(x)$: PDF\n",
    "## $F(x)$: CDF\n",
    "## $S(x)=1-F(x)$ \n",
    "## $\\lim_{x \\to \\infty} \\int _x^{\\infty}S(x)dx = \\lim_{x \\to \\infty} S(x) = \\lim_{x \\to \\infty} 1-F(x)$\n",
    "## $\\lim_{x \\to \\infty} 1-F(x) = \\lim_{x \\to \\infty} \\int _x^{\\infty}f(x)dx$\n",
    "\n",
    "\n",
    "### `case1`: 치역 $f(x) > 0$ 의 정의역이 $\\{x > 0\\}$ 인 경우\n",
    "- $\\lim_{x \\to \\infty} f(x) = 0$\n",
    "- $f(x)$는 big-O 표기에서 $O(x^{-1})$ 이상이 불가능\n",
    "> $f(x)$의 big-O 표기가 $O(x^{-1})$ 일 경우\n",
    "> - $F(x)$의 big-O 표기가 $O(log(x))$\n",
    "> - $\\lim_{x \\to \\infty} F(x)$는 수렴하지 않음\n",
    "> 따라서 $f(x)$의 big-O 표기는 $O(x^{-1})$ 보다 작다\n",
    "- $\\lim_{x \\to \\infty}xS(x)=\\lim_{x \\to \\infty}xf(x)=\\lim_{x \\to \\infty}(x^{1+a}\\ ;\\ a < -1)=0$\n",
    "\n",
    "\n",
    "\n",
    "### `case2`: `case1`이 아닌경우\n",
    "- $x > k$일때,  $f(x) = 0$이 되는 어떤 상수 $k$가 존재한다.\n",
    "- $\\lim_{x \\to \\infty}xS(x)=\\lim_{x \\to \\infty}xf(x)=0$\n"
   ]
  },
  {
   "cell_type": "code",
   "execution_count": null,
   "metadata": {},
   "outputs": [],
   "source": []
  }
 ],
 "metadata": {
  "kernelspec": {
   "display_name": "Python 3",
   "language": "python",
   "name": "python3"
  },
  "language_info": {
   "codemirror_mode": {
    "name": "ipython",
    "version": 3
   },
   "file_extension": ".py",
   "mimetype": "text/x-python",
   "name": "python",
   "nbconvert_exporter": "python",
   "pygments_lexer": "ipython3",
   "version": "3.6.5"
  }
 },
 "nbformat": 4,
 "nbformat_minor": 2
}
