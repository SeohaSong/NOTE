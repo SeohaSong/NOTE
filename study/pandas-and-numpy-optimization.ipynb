{
 "cells": [
  {
   "cell_type": "code",
   "execution_count": 186,
   "metadata": {},
   "outputs": [],
   "source": [
    "import time\n",
    "import numpy as np\n",
    "import pandas as pd"
   ]
  },
  {
   "cell_type": "markdown",
   "metadata": {},
   "source": [
    "# 3 차원 형태 리스트까지 효율을 보임"
   ]
  },
  {
   "cell_type": "code",
   "execution_count": 153,
   "metadata": {},
   "outputs": [
    {
     "name": "stdout",
     "output_type": "stream",
     "text": [
      "(50, 50)\n",
      "0.2983858585357666\n",
      "(50, 50)\n",
      "0.3307840824127197\n",
      "(50, 50)\n",
      "0.3462378978729248\n"
     ]
    }
   ],
   "source": [
    "n = 50\n",
    "a = np.arange(n**5).reshape(*[n]*5)\n",
    "\n",
    "s = time.time()\n",
    "print(a.mean(axis=(2,3,4)).shape)\n",
    "print(time.time()-s)\n",
    "\n",
    "s = time.time()\n",
    "print(np.array([a0.mean(axis=(1,2,3)) for a0 in a]).shape)\n",
    "print(time.time()-s)\n",
    "\n",
    "s = time.time()\n",
    "print(np.array([[a1.mean() for a1 in a0] for a0 in a]).shape)\n",
    "print(time.time()-s)"
   ]
  },
  {
   "cell_type": "code",
   "execution_count": 154,
   "metadata": {},
   "outputs": [
    {
     "name": "stdout",
     "output_type": "stream",
     "text": [
      "(100, 100)\n",
      "0.09744691848754883\n",
      "(100, 100)\n",
      "0.10046005249023438\n",
      "(100, 100)\n",
      "0.22214198112487793\n"
     ]
    }
   ],
   "source": [
    "n = 100\n",
    "a = np.arange(n**4).reshape(*[n]*4)\n",
    "\n",
    "s = time.time()\n",
    "print(a.mean(axis=(2,3)).shape)\n",
    "print(time.time()-s)\n",
    "\n",
    "s = time.time()\n",
    "print(np.array([a0.mean(axis=(1,2)) for a0 in a]).shape)\n",
    "print(time.time()-s)\n",
    "\n",
    "s = time.time()\n",
    "print(np.array([[a1.mean() for a1 in a0] for a0 in a]).shape)\n",
    "print(time.time()-s)"
   ]
  },
  {
   "cell_type": "markdown",
   "metadata": {},
   "source": [
    "# 연산 과정은 클래스 변환 이후 그 안에서 진행해야함"
   ]
  },
  {
   "cell_type": "code",
   "execution_count": 159,
   "metadata": {},
   "outputs": [
    {
     "name": "stdout",
     "output_type": "stream",
     "text": [
      "0.15814781188964844\n",
      "0.0016262531280517578\n"
     ]
    }
   ],
   "source": [
    "a = np.array(range(2000000))\n",
    "\n",
    "s = time.time()\n",
    "sum(a)\n",
    "print(time.time()-s)\n",
    "\n",
    "s = time.time()\n",
    "np.sum(a)\n",
    "print(time.time()-s)"
   ]
  },
  {
   "cell_type": "markdown",
   "metadata": {},
   "source": [
    "# 판다스, 넘파이, 리스트, 제네레이터"
   ]
  },
  {
   "cell_type": "code",
   "execution_count": 188,
   "metadata": {
    "scrolled": true
   },
   "outputs": [
    {
     "name": "stdout",
     "output_type": "stream",
     "text": [
      "4.248657941818237\n",
      "1.2292721271514893\n"
     ]
    }
   ],
   "source": [
    "l = list(range(20000000))\n",
    "\n",
    "s = time.time()\n",
    "se = pd.Series(l)\n",
    "a = np.array(se)\n",
    "print(time.time()-s)\n",
    "\n",
    "s = time.time()\n",
    "a = np.array(l)\n",
    "print(time.time()-s)"
   ]
  },
  {
   "cell_type": "code",
   "execution_count": 187,
   "metadata": {},
   "outputs": [
    {
     "name": "stdout",
     "output_type": "stream",
     "text": [
      "0.1543118953704834\n",
      "3.8710241317749023\n"
     ]
    }
   ],
   "source": [
    "g = range(20000000)\n",
    "\n",
    "s = time.time()\n",
    "se = pd.Series(g)\n",
    "a = np.array(se)\n",
    "print(time.time()-s)\n",
    "\n",
    "s = time.time()\n",
    "a = np.array(g)\n",
    "print(time.time()-s)"
   ]
  },
  {
   "cell_type": "code",
   "execution_count": null,
   "metadata": {},
   "outputs": [],
   "source": []
  }
 ],
 "metadata": {
  "kernelspec": {
   "display_name": "Python 3",
   "language": "python",
   "name": "python3"
  },
  "language_info": {
   "codemirror_mode": {
    "name": "ipython",
    "version": 3
   },
   "file_extension": ".py",
   "mimetype": "text/x-python",
   "name": "python",
   "nbconvert_exporter": "python",
   "pygments_lexer": "ipython3",
   "version": "3.6.5"
  }
 },
 "nbformat": 4,
 "nbformat_minor": 2
}
