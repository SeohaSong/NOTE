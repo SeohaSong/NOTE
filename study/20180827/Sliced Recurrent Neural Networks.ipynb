{
 "cells": [
  {
   "cell_type": "markdown",
   "metadata": {},
   "source": [
    "# Abstract\n",
    "\n",
    "> RNN은 자연어처리의 발전에 많은 도움이 되었지만, 그 자체의 재귀적인 특성 때문에 병렬처리에서 많은 어려움을 겪고 있다.\n",
    "\n",
    "> 본 논문은 SRNN(Sliced RNN)이라는 시퀀스를 하위의 여러 시퀀스로 나누어 병렬처리하는 알고리즘을 소개한다.\n",
    "\n",
    "> SRNN은 기존에서 파라미터를 약간만 추가한다. 추가 된 파라미터는 다중 레이어의 고수준 정보를 얻어내는 역할을 한다고 알자두자."
   ]
  },
  {
   "cell_type": "code",
   "execution_count": null,
   "metadata": {},
   "outputs": [],
   "source": []
  }
 ],
 "metadata": {
  "kernelspec": {
   "display_name": "Python 3",
   "language": "python",
   "name": "python3"
  },
  "language_info": {
   "codemirror_mode": {
    "name": "ipython",
    "version": 3
   },
   "file_extension": ".py",
   "mimetype": "text/x-python",
   "name": "python",
   "nbconvert_exporter": "python",
   "pygments_lexer": "ipython3",
   "version": "3.6.5"
  }
 },
 "nbformat": 4,
 "nbformat_minor": 2
}
