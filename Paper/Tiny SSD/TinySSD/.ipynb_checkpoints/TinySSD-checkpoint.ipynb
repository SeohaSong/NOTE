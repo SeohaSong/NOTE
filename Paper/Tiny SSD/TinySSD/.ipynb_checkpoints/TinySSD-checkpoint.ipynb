{
 "cells": [
  {
   "cell_type": "markdown",
   "metadata": {
    "heading_collapsed": true
   },
   "source": [
    "# Tiny SSD : A Tiny Single-shot Detection Deep Convolutional Neural Network for Real-time Embedded Object Detection"
   ]
  },
  {
   "cell_type": "markdown",
   "metadata": {
    "hidden": true
   },
   "source": [
    "- squeezedet의 기능과 ssd를 합쳤다.\n",
    "- detection 성능을 그대로 유지하면서 모델 사이즈를 대폭 줄였다. (2.3MB 크기의 모델을 보유 - tiny yolo 대비 26배 모델 크기 감소)\n",
    "- Tiny SSD는 VOC 2007에서 61.3 %의 map을 달성 (tiny YOLO보다 4.2 % 좋아짐)"
   ]
  },
  {
   "cell_type": "markdown",
   "metadata": {
    "hidden": true
   },
   "source": [
    "많은 연구에 따라 mask rcnn 등 좋은 모델들이 많이 나왔지만 임베디드 보드에는 메모리 제약에 의해 사용하기 힘들 때가 있다.\n",
    "\n",
    "faster rcnn은 gpu가 있어도 5 ~ 7 FPS 이다.\n",
    "\n",
    "따라서 이런 효율적인 방법(tiny-ssd)을 쓰는게 드론과 같이 다수의 무언가를 운영할 때 적합하다.\n",
    "\n",
    "tiny-yolo는 모델 크기를 줄이고 SqueezeDet은 Fire microarchitecture를 소개하여 이를 해결하였었다.\n",
    "\n",
    "SqueezeDet은 하지만 3개의 물체만 detection 해 내었고 더 많은 객체를 검출하면 성능이 떨어진다.\n",
    "\n",
    "우리는 SSD와 SqueezeNet의 개념을 합쳐서 Tiny SSD를 만들었다."
   ]
  },
  {
   "cell_type": "markdown",
   "metadata": {
    "hidden": true
   },
   "source": [
    "모델을 최적화 시키는 건 다양한 방법이 있다. quantization이나 sparse한 connection들을 줄인다던지 등등\n",
    "\n",
    "하지만 squeezenet 은 아싸리 모델 자체가 dense한 connection들을 많이 갖도록 모델을 설계 (즉 모델 크기 줄이면서 성능 비슷)\n",
    "\n",
    "mobilenet도 비슷한 형태!"
   ]
  },
  {
   "cell_type": "markdown",
   "metadata": {
    "heading_collapsed": true,
    "hidden": true
   },
   "source": [
    "### SqueezeNet"
   ]
  },
  {
   "cell_type": "markdown",
   "metadata": {
    "hidden": true
   },
   "source": [
    "세 가지 전략이 활용되었다.\n",
    "\n",
    "- 전략 1. 3x3 필터를 1x1 필터로 대체하여 네트워크를 더 작게 만듦.\n",
    "- 전략 2. 가능한 한 3x3으로의 input channel 수를 줄인다.\n",
    "- 전략 3. 네트워크의 나중 stage에서 downsampling 한다. (Convolution 이 큰 activation size를 가질 수 있도록)"
   ]
  },
  {
   "cell_type": "markdown",
   "metadata": {
    "hidden": true
   },
   "source": [
    "![](ts_fire_module.png)\n",
    "![](ts_fire_module2.png)"
   ]
  },
  {
   "cell_type": "markdown",
   "metadata": {
    "hidden": true
   },
   "source": [
    "https://github.com/rcmalli/keras-squeezenet/blob/master/keras_squeezenet/squeezenet.py"
   ]
  },
  {
   "cell_type": "markdown",
   "metadata": {
    "heading_collapsed": true,
    "hidden": true
   },
   "source": [
    "### Model"
   ]
  },
  {
   "cell_type": "markdown",
   "metadata": {
    "hidden": true
   },
   "source": [
    "tiny SSD는 2개의 주된 sub network로 이루어진다.\n",
    "\n",
    "- 1) non-uniform Fire sub-network stack\n",
    "- 2) non-uniform subnetwork stack\n",
    "\n",
    "2)는 1)로부터 공급으로 매우 최적화된 ssd 기반 auxiliary conv feature layer 형태이다.\n",
    "\n",
    "다음은 tiny SSD 네트워크 아키텍처의 첫 번째 sub network인 최적화 된 non-uniform Fire sub-network stack 이다"
   ]
  },
  {
   "cell_type": "markdown",
   "metadata": {
    "hidden": true
   },
   "source": [
    "![](ts_model1.png)"
   ]
  },
  {
   "cell_type": "markdown",
   "metadata": {
    "hidden": true
   },
   "source": [
    "tiny SSD의 두 번째 sub network는 고도로 최적화된 micro architecture 구성을 가진 일련의 auxiliary conv layer와 conv classifier로 구성된다.\n",
    "\n",
    "![](ts_model0.png)\n",
    "![](ts_model3.png)\n",
    "\n",
    "pascal voc 기준이므로 class 21개, default box는 4개 또는 6개가 사용되었다."
   ]
  },
  {
   "cell_type": "markdown",
   "metadata": {
    "hidden": true
   },
   "source": [
    "마지막으로 weight를 부동 소수점 계산 정밀도가 반이 되도록 줄였다 (float32 -> float16)"
   ]
  },
  {
   "cell_type": "markdown",
   "metadata": {
    "heading_collapsed": true,
    "hidden": true
   },
   "source": [
    "### Result"
   ]
  },
  {
   "cell_type": "markdown",
   "metadata": {
    "hidden": true
   },
   "source": [
    "![](ts_res.png)"
   ]
  },
  {
   "cell_type": "code",
   "execution_count": null,
   "metadata": {
    "hidden": true
   },
   "outputs": [],
   "source": []
  }
 ],
 "metadata": {
  "kernelspec": {
   "display_name": "Python 3",
   "language": "python",
   "name": "python3"
  },
  "language_info": {
   "codemirror_mode": {
    "name": "ipython",
    "version": 3
   },
   "file_extension": ".py",
   "mimetype": "text/x-python",
   "name": "python",
   "nbconvert_exporter": "python",
   "pygments_lexer": "ipython3",
   "version": "3.5.2"
  },
  "varInspector": {
   "cols": {
    "lenName": 16,
    "lenType": 16,
    "lenVar": 40
   },
   "kernels_config": {
    "python": {
     "delete_cmd_postfix": "",
     "delete_cmd_prefix": "del ",
     "library": "var_list.py",
     "varRefreshCmd": "print(var_dic_list())"
    },
    "r": {
     "delete_cmd_postfix": ") ",
     "delete_cmd_prefix": "rm(",
     "library": "var_list.r",
     "varRefreshCmd": "cat(var_dic_list()) "
    }
   },
   "types_to_exclude": [
    "module",
    "function",
    "builtin_function_or_method",
    "instance",
    "_Feature"
   ],
   "window_display": false
  }
 },
 "nbformat": 4,
 "nbformat_minor": 2
}
