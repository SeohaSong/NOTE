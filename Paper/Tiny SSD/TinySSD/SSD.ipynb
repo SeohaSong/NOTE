{
 "cells": [
  {
   "cell_type": "markdown",
   "metadata": {},
   "source": [
    "# SSD: Single Shot MultiBox Detector"
   ]
  },
  {
   "cell_type": "markdown",
   "metadata": {},
   "source": [
    "![chart](./ssd_chart.png)"
   ]
  },
  {
   "cell_type": "markdown",
   "metadata": {},
   "source": [
    "## Abstract"
   ]
  },
  {
   "cell_type": "markdown",
   "metadata": {},
   "source": [
    "- 새로운 방식 SSD 사용\n",
    "- SSD는 proposal generation과 그 후처리를 필요로 하지 않는 하나의 네트워크\n",
    "- 우리 것이 짱이다 주장"
   ]
  },
  {
   "cell_type": "markdown",
   "metadata": {},
   "source": [
    "# 1. Introduction"
   ]
  },
  {
   "cell_type": "markdown",
   "metadata": {},
   "source": [
    "Faster RCNN == FRCNN\n",
    "\n",
    "- 현재 sota FRCNN 은 너무 느림(7FPS)\n",
    "\n",
    "\n",
    "- 빠르게 하기 위한 FRCNN 변형은 모두 정확도를 현저히 떨굼(YOLO - (45 FPS with mAP 63.4%))\n",
    "\n",
    "\n",
    "- bbox proposal을 뽑아내는 부분과 그 후처리를 없애버림 (59 FPS with mAP 74.3%)\n",
    "\n",
    "\n",
    "- 여러가지 크기의 feature map에 Conv layer 처리를 하고 합치는 방식을 사용함"
   ]
  },
  {
   "cell_type": "markdown",
   "metadata": {},
   "source": [
    "# 2. SSD"
   ]
  },
  {
   "cell_type": "markdown",
   "metadata": {},
   "source": [
    "## 2.1 Model"
   ]
  },
  {
   "cell_type": "markdown",
   "metadata": {},
   "source": [
    "##### Structure"
   ]
  },
  {
   "cell_type": "markdown",
   "metadata": {
    "ExecuteTime": {
     "end_time": "2018-03-08T07:51:55.377682Z",
     "start_time": "2018-03-08T07:51:55.262774Z"
    }
   },
   "source": [
    "![fig2](./ssd_fig2.png)"
   ]
  },
  {
   "cell_type": "markdown",
   "metadata": {},
   "source": [
    "YOLO 는 최종 특징맵에만 경계 박스와 클래스 정보가 있는데 비해 SSD 는 여러 레이어에 정보가 분산\n",
    "\n",
    "class 수는 pascal voc 기준 background 포함 21개\n",
    "\n",
    "+4 는 (x, y, w, h) bbox 데이터 의미\n",
    "\n",
    "k x (Classes + 4) 형태인데 k 는 default box 개수(aspect ratio)를 의미\n",
    "\n",
    ".\n",
    "\n",
    "38x38x(4x(Classes+4)) = 5776x(Classes+4) - conv4_3\n",
    "\n",
    "19x19x(6x(Classes+4)) = 2166x(Classes+4) - conv7\n",
    "\n",
    "10x10x(6x(Classes+4)) = 600x(Classes+4) - conv8_2\n",
    "\n",
    " 5x 5x(6x(Classes+4)) = 150x(Classes+4) - conv9_2\n",
    "\n",
    " 3x 3x(4x(Classes+4)) = 36x(Classes+4) - conv10_2\n",
    "\n",
    " 1x 1x(4x(Classes+4)) = 4x(Classes+4) - conv11_2\n"
   ]
  },
  {
   "cell_type": "markdown",
   "metadata": {},
   "source": [
    "![fig1](./ssd_fig1.png)\n",
    "\n",
    "feature map을 여러 개의 크기로 만들어서, 큰 map에서는 작은 물체의 검출을, 작은 map에서는 큰 물체의 검출을 함.\n",
    "\n",
    "이러한 방식은 위치 추정 및 입력 이미지의 resampling을 없애면서도 정확도 높은 결과를 도출함\n",
    "\n",
    "여러가지 미리 정의된 박스를 default box라 부름\n",
    "\n",
    "총 6개까지 사용하는데 1:1, 1:1, 1:2, 2:1, 1:3, 3:1 를 사용함\n",
    "\n",
    "scale 관련식은 추후 2.2 절에서 설명!"
   ]
  },
  {
   "cell_type": "markdown",
   "metadata": {
    "heading_collapsed": true
   },
   "source": [
    "##### Example"
   ]
  },
  {
   "cell_type": "markdown",
   "metadata": {
    "hidden": true
   },
   "source": [
    "예를 들어 default box가 3일 때는 다음 그림들 처럼 동작"
   ]
  },
  {
   "cell_type": "markdown",
   "metadata": {
    "hidden": true
   },
   "source": [
    "![st1](./ssd_structure.png)"
   ]
  },
  {
   "cell_type": "markdown",
   "metadata": {
    "hidden": true
   },
   "source": [
    "![st3](./ssd_structure3.png)"
   ]
  },
  {
   "cell_type": "markdown",
   "metadata": {
    "hidden": true
   },
   "source": [
    "5x5x(3x(21+4)) 형태인데 21개에서는 softmax를 거쳐 21개의 probability를 뽑아냄.\n",
    "\n",
    "4에서는 bbox 변화량을 출력으로 뽑아냄. x, y, w, h 모두 bbox regr."
   ]
  },
  {
   "cell_type": "markdown",
   "metadata": {
    "heading_collapsed": true
   },
   "source": [
    "##### NMS(non-maximum-suppression)"
   ]
  },
  {
   "cell_type": "markdown",
   "metadata": {
    "hidden": true
   },
   "source": [
    "![st3](./ssd_nms.png)"
   ]
  },
  {
   "cell_type": "markdown",
   "metadata": {
    "heading_collapsed": true
   },
   "source": [
    "##### bbox_regr"
   ]
  },
  {
   "cell_type": "markdown",
   "metadata": {
    "hidden": true
   },
   "source": [
    "![](ssd_bbox_regr.png)"
   ]
  },
  {
   "cell_type": "markdown",
   "metadata": {},
   "source": [
    "## 2.2 Training"
   ]
  },
  {
   "cell_type": "markdown",
   "metadata": {},
   "source": [
    "### Matching Strategy"
   ]
  },
  {
   "cell_type": "markdown",
   "metadata": {},
   "source": [
    "yolo, rpn, multibox 등등과 같이 ssd 도 학습을 위해 정해진 output 형태가 있어야 합니다."
   ]
  },
  {
   "cell_type": "markdown",
   "metadata": {},
   "source": [
    "- IOU가 0.5 이상일 경우 학습을 진행\n",
    "- 0.5 이상인 녀석이 없으면 최대 IOU를 가진 애로 학습"
   ]
  },
  {
   "cell_type": "markdown",
   "metadata": {},
   "source": [
    "Before | After\n",
    ":---:|:---:\n",
    "![](./ssd_default_box1.png) | ![](./ssd_default_box2.png)"
   ]
  },
  {
   "cell_type": "markdown",
   "metadata": {},
   "source": [
    "### Training Objective(LOSS)"
   ]
  },
  {
   "cell_type": "markdown",
   "metadata": {},
   "source": [
    "#### All Loss"
   ]
  },
  {
   "cell_type": "markdown",
   "metadata": {},
   "source": [
    "![](./ssd_loss1.png)"
   ]
  },
  {
   "cell_type": "markdown",
   "metadata": {},
   "source": [
    "전체 loss는 위와 같이 정의된다.\n",
    "\n",
    "bbox에 대한 loc loss와 classifier loss의 합 형태이다.\n",
    "\n",
    ".\n",
    "\n",
    "a(알파) : loc에 대해 설정할 비율 cross validation으로 측정해본 결과 1이 적합\n",
    "\n",
    "N : 일치하는 default box 의 수. 0일 경우 전체 loss도 0으로 설정\n",
    "\n",
    "x : class 별 예측 confidence(0~1)\n",
    "\n",
    "c : class 별 confidence\n",
    "\n",
    "l : 예측한 bbox의 dx, dy, dw, dh\n",
    "\n",
    "g : ground truth bbox 의 dx, dy, dw, dh"
   ]
  },
  {
   "cell_type": "markdown",
   "metadata": {
    "heading_collapsed": true
   },
   "source": [
    "##### cross validation"
   ]
  },
  {
   "cell_type": "markdown",
   "metadata": {
    "hidden": true
   },
   "source": [
    "![](./ssd_cross_val.png)"
   ]
  },
  {
   "cell_type": "markdown",
   "metadata": {},
   "source": [
    "#### localization loss"
   ]
  },
  {
   "cell_type": "markdown",
   "metadata": {},
   "source": [
    "![](./ssd_loss2.png)"
   ]
  },
  {
   "cell_type": "markdown",
   "metadata": {},
   "source": [
    "loc loss에는 smooth L1 loss를 적용했음.\n",
    "\n",
    "faster rcnn에서의 bbox regression 방식과 동일함"
   ]
  },
  {
   "cell_type": "markdown",
   "metadata": {},
   "source": [
    "##### smooth_l1"
   ]
  },
  {
   "cell_type": "markdown",
   "metadata": {},
   "source": [
    "![](ssd_smooth_l1.png)"
   ]
  },
  {
   "cell_type": "markdown",
   "metadata": {},
   "source": [
    "#### classification(confidence) loss"
   ]
  },
  {
   "cell_type": "markdown",
   "metadata": {},
   "source": [
    "![](./ssd_loss3.png)"
   ]
  },
  {
   "cell_type": "markdown",
   "metadata": {},
   "source": [
    "softmax + categorical cross entropy 형태입니다."
   ]
  },
  {
   "cell_type": "markdown",
   "metadata": {},
   "source": [
    "### Choosing Scales and Aspect Ratios for Default Boxes"
   ]
  },
  {
   "cell_type": "markdown",
   "metadata": {},
   "source": [
    "![](ssd_choose_scale.png)"
   ]
  },
  {
   "cell_type": "markdown",
   "metadata": {},
   "source": [
    "default box의 크기는 위 식을 이용하여 구함\n",
    "\n",
    "k : default box의 number\n",
    "\n",
    "Smin : 0.2\n",
    "Smax : 0.9\n",
    "\n",
    "즉 k 값에 따라 s(scale) 값은 0.2 ~ 0.9까지 올라감\n",
    "\n",
    "값은 약 [0.2, 0.32, 0.44, 0.56, 0.68, 0.80, 0.9]\n",
    "\n",
    "ar은 종횡비로 [1, 2, 3, 1/2, 1/3]\n",
    "\n",
    "![](ssd_choose_scale2.png) \n",
    "![](ssd_choose_scale3.png) \n",
    "\n",
    "위 두 식으로 width와 height를 구하고\n",
    "\n",
    "![](ssd_choose_scale4.png)\n",
    "\n",
    "이 식으로 default bbox를 하나 더 추가합니다."
   ]
  },
  {
   "cell_type": "markdown",
   "metadata": {},
   "source": [
    "### Hard Negative Mining"
   ]
  },
  {
   "cell_type": "markdown",
   "metadata": {},
   "source": [
    "마지막으로 confidence loss가 높은 순으로 디폴트 박스를 정렬하여 positive와 negative의 비율이 1:3이 되도록 confidence loss가 높은것만 선별하여 학습 \n",
    "\n",
    "오브젝트에 대한 신뢰 로스(오류)가 큰것만을 로스를 줄이는 방향으로 학습시키다 보면 결국 모든 샘플들의 신뢰 로스가 점차 낮아짐\n",
    "\n",
    "이 방법을 사용하면 더 빠르고 안정적인 학습이 이뤄지는 것을 확인"
   ]
  },
  {
   "cell_type": "markdown",
   "metadata": {},
   "source": [
    "### Data Augmentation"
   ]
  },
  {
   "cell_type": "markdown",
   "metadata": {},
   "source": [
    "다음 중 하나를 랜덤으로 뽑아서 학습을 시켜서 data augmentation을 수행하였습니다.\n",
    "- 입력 이미지를 그대로 넣기\n",
    "- 최소 IoU가 0.1, 0.3, 0.5, 0.7, 0.9 인 샘플 패치를 넣기\n",
    "- random patch (random cropping)"
   ]
  },
  {
   "cell_type": "markdown",
   "metadata": {},
   "source": [
    "# 3. Result"
   ]
  },
  {
   "cell_type": "markdown",
   "metadata": {},
   "source": [
    "### 3.1 Pascal VOC 2007 test set"
   ]
  },
  {
   "cell_type": "markdown",
   "metadata": {},
   "source": [
    "![](ssd_result1.png)\n",
    "![](ssd_result2.png)"
   ]
  },
  {
   "cell_type": "markdown",
   "metadata": {},
   "source": [
    "# YOLO V2?"
   ]
  },
  {
   "cell_type": "markdown",
   "metadata": {},
   "source": [
    "FC 를 제거하여 fully-convolutional model 로 변화\n",
    "\n",
    "hard negative(절대로 오브젝트가 있을 수 없는 위치) 를 학습하지 않도록 조절\n",
    "\n",
    "width, height 를 직접 예측했던 전 버전과 다르게 prior(SSD의 디폴트 박스, R-CNN의 앵커 박스)를 두고 이것을 조절\n",
    "\n",
    "x,y 는 여전히 직접 예측"
   ]
  }
 ],
 "metadata": {
  "kernelspec": {
   "display_name": "Python 3",
   "language": "python",
   "name": "python3"
  },
  "language_info": {
   "codemirror_mode": {
    "name": "ipython",
    "version": 3
   },
   "file_extension": ".py",
   "mimetype": "text/x-python",
   "name": "python",
   "nbconvert_exporter": "python",
   "pygments_lexer": "ipython3",
   "version": "3.5.2"
  },
  "varInspector": {
   "cols": {
    "lenName": 16,
    "lenType": 16,
    "lenVar": 40
   },
   "kernels_config": {
    "python": {
     "delete_cmd_postfix": "",
     "delete_cmd_prefix": "del ",
     "library": "var_list.py",
     "varRefreshCmd": "print(var_dic_list())"
    },
    "r": {
     "delete_cmd_postfix": ") ",
     "delete_cmd_prefix": "rm(",
     "library": "var_list.r",
     "varRefreshCmd": "cat(var_dic_list()) "
    }
   },
   "types_to_exclude": [
    "module",
    "function",
    "builtin_function_or_method",
    "instance",
    "_Feature"
   ],
   "window_display": false
  }
 },
 "nbformat": 4,
 "nbformat_minor": 2
}
