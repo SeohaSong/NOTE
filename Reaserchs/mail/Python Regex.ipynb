{
 "cells": [
  {
   "cell_type": "markdown",
   "metadata": {},
   "source": [
    "# r'string'\n",
    "\n",
    "파이썬 정규표현식은 문자열 앞부분에 r을 넣어주는것이 안전하게 사용하는 방법이다.\n",
    "\n",
    "대체로 이스케이프 표현(\\\\)을 이용해야 한다고 인지되는 거의 모든 경우 써주는 것이 좋다."
   ]
  },
  {
   "cell_type": "markdown",
   "metadata": {},
   "source": [
    "# 그룹핑 예시\n",
    "\n",
    "그룹은 \\1, \\2... 로 지칭 할 수 있다.\n",
    "지정 순서는 왼쪽 괄호< ( >가 왼쪽에서 오른쪽으로 먼저 나타나는 순이다."
   ]
  },
  {
   "cell_type": "code",
   "execution_count": 11,
   "metadata": {},
   "outputs": [
    {
     "name": "stdout",
     "output_type": "stream",
     "text": [
      "ㅁㅁㅁㄴㅇㄹㅁㄴㅇㄹㅁ\n",
      "ㅁㅁㅁ\n",
      "ㅁ\n",
      "ㄹㅁ\n"
     ]
    }
   ],
   "source": [
    "import re\n",
    "\n",
    "m = re.compile(r'((.{1})\\2{2,3}).+(ㄹㅁ).+\\3').search(\"ㅁㅁㅁㄴㅇㄹㅁㄴㅇㄹㅁㄴㅇㄹ\")\n",
    "print(m.group(0))\n",
    "print(m.group(1))\n",
    "print(m.group(2))\n",
    "print(m.group(3))"
   ]
  },
  {
   "cell_type": "markdown",
   "metadata": {},
   "source": [
    "#  Findall 함수와 그룹핑\n",
    "\n",
    "findall은 문자열 전체에서 매칭되는 각 요소를 리스트로 반환한다.\n",
    "\n",
    "알고리즘은 문자열에서 매칭되는 부분을 찾으면\n",
    "\n",
    "매칭된 부분 이후부터 잘린 문자열을 기준에 표현식 적용을 반복하는 방식이다.\n",
    "\n",
    "그룹을 이용할 경우 리스트 요소 한개는 search함수를 수행한 결과의 모든 그룹을 튜플로 묶은 것과 같다.\n",
    "\n",
    "사실 알고보면 search의 group(0)은 그냥 매칭표현식 전체를 그룹핑으로 감싼 것이다."
   ]
  },
  {
   "cell_type": "code",
   "execution_count": 27,
   "metadata": {},
   "outputs": [
    {
     "name": "stdout",
     "output_type": "stream",
     "text": [
      "[]\n",
      "[('mm', 'm')]\n",
      "[('mm', 'm'), ('mm', 'm')]\n"
     ]
    }
   ],
   "source": [
    "print(re.compile(\"(mm)(m)\").findall(\"mm\"))\n",
    "print(re.compile(\"(mm)(m)\").findall(\"mmmmm\"))\n",
    "print(re.compile(\"(mm)(m)\").findall(\"mmmmmm\"))"
   ]
  },
  {
   "cell_type": "markdown",
   "metadata": {},
   "source": [
    "# 비욕심\n",
    "\n",
    "+?는 비욕심의 성질을 가진다.\n",
    "\n",
    "이는 알고리즘의 특성상 분할정복의 관점에서,\n",
    "\n",
    "또는 계산의 효율을 위해서,\n",
    "\n",
    "작은 부분부터 큰 부분으로 연산이 수행되는데\n",
    "\n",
    "따라서 큰 욕심 안부리고 먼저 얻어진 값을 정답으로 삼겠다고 이해하면 편하다."
   ]
  },
  {
   "cell_type": "code",
   "execution_count": 51,
   "metadata": {},
   "outputs": [
    {
     "name": "stdout",
     "output_type": "stream",
     "text": [
      "['ㅁㅁ', 'ㅁㄴㅇㄹ']\n",
      "['ㅁ', 'ㅁ', '', '', '', '', '', '', '', '', '', '', '', '', '']\n"
     ]
    }
   ],
   "source": [
    "print(re.compile(r'(.+)\\1').findall(\"ㅁㅁㅁㅁㅁㄴㅇㄹㅁㄴㅇㄹㅁㄴㅇㄹ\"))\n",
    "print(re.compile(r'(.?)\\1').findall(\"ㅁㅁㅁㅁㅁㄴㅇㄹㅁㄴㅇㄹㅁㄴㅇㄹ\"))"
   ]
  },
  {
   "cell_type": "markdown",
   "metadata": {},
   "source": [
    "비욕심의 예시"
   ]
  },
  {
   "cell_type": "code",
   "execution_count": 90,
   "metadata": {},
   "outputs": [
    {
     "name": "stdout",
     "output_type": "stream",
     "text": [
      "['ㅁ', 'ㅁ', 'ㅁㄴㅇㄹ']\n",
      "['ㅁㅁ', 'ㅁㅁ']\n"
     ]
    }
   ],
   "source": [
    "print(re.compile(r'(.+?)\\1').findall(\"ㅁㅁㅁㅁㅁㄴㅇㄹㅁㄴㅇㄹㅁㄴㅇㄹ\"))\n",
    "print(re.compile(r'(ㅁㅁ)+?').findall(\"ㅁㅁㅁㅁㅁㄴㅇㄹㅁㄴㅇㄹㅁㄴㅇㄹ\"))"
   ]
  },
  {
   "cell_type": "code",
   "execution_count": null,
   "metadata": {},
   "outputs": [],
   "source": []
  }
 ],
 "metadata": {
  "kernelspec": {
   "display_name": "Python 3",
   "language": "python",
   "name": "python3"
  },
  "language_info": {
   "codemirror_mode": {
    "name": "ipython",
    "version": 3
   },
   "file_extension": ".py",
   "mimetype": "text/x-python",
   "name": "python",
   "nbconvert_exporter": "python",
   "pygments_lexer": "ipython3",
   "version": "3.6.4"
  }
 },
 "nbformat": 4,
 "nbformat_minor": 2
}
