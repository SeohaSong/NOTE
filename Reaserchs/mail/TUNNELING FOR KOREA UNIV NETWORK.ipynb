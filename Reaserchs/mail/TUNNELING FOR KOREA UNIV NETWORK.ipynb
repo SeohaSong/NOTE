{
 "cells": [
  {
   "cell_type": "markdown",
   "metadata": {},
   "source": [
    "```bash\n",
    "ssh -i tunnel.pem -R 2222:localhost:2222 ubuntu@13.125.107.69\n",
    "ssh -i tunnel.pem -L 2222:localhost:2222 ubuntu@13.125.107.69\n",
    "\n",
    "ssh -i tunnel.pem -R 8888:localhost:8888 ubuntu@13.125.107.69\n",
    "ssh -i tunnel.pem -L 8888:localhost:8888 ubuntu@13.125.107.69\n",
    "\n",
    "ssh seohasong@localhost -p 2222\n",
    "```\n",
    "\n",
    "- Amazon => 라즈베리서버\n",
    "- set ssh 2222 port for ubuntu on windows\n",
    "- http://localhost:8888"
   ]
  },
  {
   "cell_type": "code",
   "execution_count": null,
   "metadata": {},
   "outputs": [],
   "source": []
  }
 ],
 "metadata": {
  "kernelspec": {
   "display_name": "Python 3",
   "language": "python",
   "name": "python3"
  },
  "language_info": {
   "codemirror_mode": {
    "name": "ipython",
    "version": 3
   },
   "file_extension": ".py",
   "mimetype": "text/x-python",
   "name": "python",
   "nbconvert_exporter": "python",
   "pygments_lexer": "ipython3",
   "version": "3.6.4"
  }
 },
 "nbformat": 4,
 "nbformat_minor": 2
}
