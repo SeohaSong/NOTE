{
 "cells": [
  {
   "cell_type": "code",
   "execution_count": 1,
   "metadata": {},
   "outputs": [
    {
     "name": "stdout",
     "output_type": "stream",
     "text": [
      "True 1114111\n"
     ]
    }
   ],
   "source": [
    "MAX_ORD = 0\n",
    "while True:\n",
    "    try:\n",
    "        MAX_ORD += 1\n",
    "        chr(MAX_ORD)\n",
    "    except:\n",
    "        MAX_ORD -= 1\n",
    "        break\n",
    "\n",
    "MAX_CHR = chr(MAX_ORD)\n",
    "MAX_CODE = MAX_CHR.encode(\"unicode-escape\")[2:]\n",
    "print(MAX_ORD == int(MAX_CODE, 16), MAX_ORD)"
   ]
  },
  {
   "cell_type": "code",
   "execution_count": null,
   "metadata": {},
   "outputs": [],
   "source": []
  }
 ],
 "metadata": {
  "kernelspec": {
   "display_name": "Python 3",
   "language": "python",
   "name": "python3"
  },
  "language_info": {
   "codemirror_mode": {
    "name": "ipython",
    "version": 3
   },
   "file_extension": ".py",
   "mimetype": "text/x-python",
   "name": "python",
   "nbconvert_exporter": "python",
   "pygments_lexer": "ipython3",
   "version": "3.6.4"
  }
 },
 "nbformat": 4,
 "nbformat_minor": 2
}
