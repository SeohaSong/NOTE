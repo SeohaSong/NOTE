{
 "cells": [
  {
   "cell_type": "markdown",
   "metadata": {},
   "source": [
    "# Speed check"
   ]
  },
  {
   "cell_type": "code",
   "execution_count": 167,
   "metadata": {},
   "outputs": [],
   "source": [
    "import time\n",
    "from matplotlib import pyplot as plt\n",
    "import numpy as np\n",
    "import pandas as pd"
   ]
  },
  {
   "cell_type": "markdown",
   "metadata": {},
   "source": [
    "### Cases for one function"
   ]
  },
  {
   "cell_type": "code",
   "execution_count": 133,
   "metadata": {},
   "outputs": [],
   "source": [
    "def get_fibos(n, n_rec, s1=0, s2=1):\n",
    "\n",
    "    def make_fibos(n, s1, s2, l):\n",
    "        if n:\n",
    "            l.append(s1)\n",
    "            return make_fibos(n-1, s2, s1+s2, l)\n",
    "        else:\n",
    "            return l\n",
    "    \n",
    "    fibos = [s1, s2]\n",
    "    for i in range(n//n_rec):\n",
    "        fibos = make_fibos(n_rec+2, *fibos[-2:], fibos[:-2])\n",
    "\n",
    "    return make_fibos(n%n_rec, *fibos[-2:], fibos[:-2])"
   ]
  },
  {
   "cell_type": "code",
   "execution_count": 134,
   "metadata": {},
   "outputs": [
    {
     "data": {
      "image/png": "[encoded data removed]",
      "text/plain": [
       "<matplotlib.figure.Figure at 0x11394aa90>"
      ]
     },
     "metadata": {},
     "output_type": "display_data"
    }
   ],
   "source": [
    "def report4function(function, args, cases):\n",
    "    \n",
    "    key = [key for key in cases.keys()][0]\n",
    "    argss = []\n",
    "    for case in cases[key]:\n",
    "        temp_args = args.copy()\n",
    "        temp_args.update({key: case})\n",
    "        argss.append(temp_args)\n",
    "    \n",
    "    logdic = {args[key]: [] for args in argss}\n",
    "    for args in argss:\n",
    "        for _ in range(30):\n",
    "            s = time.time()\n",
    "            result = function(**args)\n",
    "            logdic[args[key]].append(time.time()-s)\n",
    "            \n",
    "    df = pd.DataFrame(logdic)\n",
    "    se = df.mean(axis=0)\n",
    "    plt.plot(se)\n",
    "    plt.show()\n",
    "\n",
    "    \n",
    "args = {\"n\": 5000}\n",
    "\n",
    "start = 400\n",
    "end = 900\n",
    "cases = np.linspace(start, end, 10).tolist()\n",
    "cases = {\"n_rec\": [int(case) for case in cases]} \n",
    "    \n",
    "    \n",
    "report4function(get_fibos, args, cases)"
   ]
  },
  {
   "cell_type": "markdown",
   "metadata": {},
   "source": [
    "### Single case and many functions"
   ]
  },
  {
   "cell_type": "code",
   "execution_count": 157,
   "metadata": {},
   "outputs": [],
   "source": [
    "def make_fibos(n, s1=0, s2=1, l=None):\n",
    "    if not l:\n",
    "        l = []    \n",
    "    l.append(s1)\n",
    "    return make_fibos(n-1, s2, s1+s2, l) if n-1 else l\n",
    "\n",
    "def get_fibos(n, s1=0, s2=1):\n",
    "    fibos = [s1, s2]\n",
    "    for _ in range(n-2):\n",
    "        temp = s2\n",
    "        s2 = s1+s2\n",
    "        s1 = temp\n",
    "        fibos.append(s2)\n",
    "    return fibos[:n]"
   ]
  },
  {
   "cell_type": "code",
   "execution_count": 166,
   "metadata": {},
   "outputs": [
    {
     "name": "stdout",
     "output_type": "stream",
     "text": [
      "0.0009353160858154297\n",
      "0.0004050731658935547\n"
     ]
    }
   ],
   "source": [
    "def report4functions(functions, args):\n",
    "    for f in functions:\n",
    "        log = []\n",
    "        for _ in range(30):\n",
    "            s = time.time()\n",
    "            f(**args)\n",
    "            log.append(time.time()-s)\n",
    "        print(sum(log))\n",
    "\n",
    "    \n",
    "functions = [make_fibos, get_fibos]\n",
    "report4functions(functions, {\"n\": 100})"
   ]
  }
 ],
 "metadata": {
  "kernelspec": {
   "display_name": "Python 3",
   "language": "python",
   "name": "python3"
  }
 },
 "nbformat": 4,
 "nbformat_minor": 2
}
