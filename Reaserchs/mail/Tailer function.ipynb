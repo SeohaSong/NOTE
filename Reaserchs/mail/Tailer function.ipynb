{
 "cells": [
  {
   "cell_type": "code",
   "execution_count": 78,
   "metadata": {},
   "outputs": [
    {
     "name": "stdout",
     "output_type": "stream",
     "text": [
      "8.218407461554972e+307\n",
      "8.218407461554972e+307\n",
      "8.218407461554662e+307\n"
     ]
    }
   ],
   "source": [
    "import numpy as np\n",
    "import math\n",
    "import sys\n",
    "\n",
    "\n",
    "def exp(x, l=None, n=17):\n",
    "    if not l:\n",
    "        return exp(x, [1], n-1) \n",
    "    l.append(l[-1]*x/len(l))\n",
    "    if n:\n",
    "        return exp(x, l, n-1)\n",
    "    else:\n",
    "        return float((\"%0.16f\"%sum(l))[:-1])\n",
    "\n",
    "\n",
    "x = 709\n",
    "print(np.exp(x))\n",
    "print(math.exp(x))\n",
    "print(exp(1)**x)"
   ]
  },
  {
   "cell_type": "code",
   "execution_count": 77,
   "metadata": {},
   "outputs": [
    {
     "data": {
      "text/plain": [
       "2.718281828459045"
      ]
     },
     "execution_count": 77,
     "metadata": {},
     "output_type": "execute_result"
    }
   ],
   "source": []
  },
  {
   "cell_type": "code",
   "execution_count": null,
   "metadata": {},
   "outputs": [],
   "source": []
  }
 ],
 "metadata": {
  "kernelspec": {
   "display_name": "Python 3",
   "language": "python",
   "name": "python3"
  },
  "language_info": {
   "codemirror_mode": {
    "name": "ipython",
    "version": 3
   },
   "file_extension": ".py",
   "mimetype": "text/x-python",
   "name": "python",
   "nbconvert_exporter": "python",
   "pygments_lexer": "ipython3",
   "version": "3.6.4"
  }
 },
 "nbformat": 4,
 "nbformat_minor": 2
}
