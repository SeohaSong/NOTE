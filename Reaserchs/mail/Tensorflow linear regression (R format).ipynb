{
 "cells": [
  {
   "cell_type": "markdown",
   "metadata": {},
   "source": [
    "# Linear regression like R"
   ]
  },
  {
   "cell_type": "code",
   "execution_count": 2,
   "metadata": {},
   "outputs": [],
   "source": [
    "import tensorflow as tf\n",
    "import numpy as np\n",
    "import hashlib\n",
    "from matplotlib import pyplot as plt"
   ]
  },
  {
   "cell_type": "markdown",
   "metadata": {},
   "source": [
    "### Initializing for input arguments"
   ]
  },
  {
   "cell_type": "code",
   "execution_count": 3,
   "metadata": {},
   "outputs": [],
   "source": [
    "n_data = 1000\n",
    "np.random.seed(n_data)\n",
    "X_shape = n_data, 50\n",
    "y_shape = n_data, 5\n",
    "initial_X = np.random.randn(*X_shape)\n",
    "true_weightes = np.random.randn(X_shape[1], y_shape[1])\n",
    "true_biases = np.random.randn(1, y_shape[1])\n",
    "initial_y = initial_X.dot(true_weightes)+true_biases"
   ]
  },
  {
   "cell_type": "markdown",
   "metadata": {},
   "source": [
    "### Input arguments"
   ]
  },
  {
   "cell_type": "code",
   "execution_count": 11,
   "metadata": {},
   "outputs": [],
   "source": [
    "n_iter = 50\n",
    "seed_key = \"seohasong\"\n",
    "default_keys = [\"opt\"]\n",
    "graph_keys = [\"loss\"]\n",
    "print_keys = []\n",
    "X, y = initial_X, initial_y\n",
    "batch_size = 50"
   ]
  },
  {
   "cell_type": "markdown",
   "metadata": {},
   "source": [
    "### Learning with tensorflow"
   ]
  },
  {
   "cell_type": "code",
   "execution_count": 12,
   "metadata": {},
   "outputs": [],
   "source": [
    "def get_batch(X_batch, y_batch):\n",
    "    indices = np.random.choice(range(len(X)), batch_size)\n",
    "    feed_dict = {\n",
    "        X_batch: X[indices],\n",
    "        y_batch: y[indices]\n",
    "    }\n",
    "    return feed_dict\n",
    "\n",
    "seed = int(hashlib.sha1(seed_key.encode(\"utf8\")).hexdigest()[10], 16)\n",
    "np.random.seed(seed)\n",
    "\n",
    "g = tf.Graph()\n",
    "with g.as_default():\n",
    "    \n",
    "    tf.set_random_seed(seed)\n",
    "    X_batch = tf.placeholder(dtype=tf.float32, shape=(None, X.shape[1]))\n",
    "    y_batch = tf.placeholder(dtype=tf.float32, shape=(None, y.shape[1]))\n",
    "    weights = tf.Variable(tf.random_uniform([X.shape[1], y.shape[1]]))\n",
    "    biases = tf.Variable(tf.random_uniform([1, y.shape[1]]))\n",
    "    \n",
    "    output = tf.matmul(X_batch, weights)+biases\n",
    "    loss = tf.reduce_mean((output-y_batch)**2)\n",
    "    opt = tf.train.AdamOptimizer(0.1, 0.9).minimize(loss)\n",
    "\n",
    "keys = set(default_keys+graph_keys+print_keys)\n",
    "log = {key: [] for key in keys}\n",
    "    \n",
    "with tf.Session(graph=g) as sess:\n",
    "    interesting = \", \".join(keys)\n",
    "    sess.run(tf.global_variables_initializer())\n",
    "    for i in range(n_iter):\n",
    "        values = (sess.run(eval(interesting),\n",
    "                           feed_dict=get_batch(X_batch, y_batch)))\n",
    "        for i, key in enumerate(keys):\n",
    "            log[key].append(values[i])"
   ]
  },
  {
   "cell_type": "markdown",
   "metadata": {},
   "source": [
    "### Report"
   ]
  },
  {
   "cell_type": "code",
   "execution_count": 13,
   "metadata": {
    "scrolled": false
   },
   "outputs": [
    {
     "data": {
      "image/png": "[encoded data removed]",
      "text/plain": [
       "<matplotlib.figure.Figure at 0x18235faa20>"
      ]
     },
     "metadata": {},
     "output_type": "display_data"
    },
    {
     "name": "stdout",
     "output_type": "stream",
     "text": [
      "\n"
     ]
    }
   ],
   "source": [
    "m = 0.05\n",
    "n_row, n_col = len(graph_keys), 1\n",
    "w, h = (1-m)/n_col, (1-m)/n_row\n",
    "plot = {key: None for key in print_keys+graph_keys}\n",
    "plt.figure(figsize=(12, 2*len(graph_keys)))\n",
    "for i, key in enumerate(graph_keys):\n",
    "    values = log[key]\n",
    "    plot[key] = plt.axes([m, m+h*(i), w, h])\n",
    "    plot[key].plot(values)\n",
    "    legend = \"Final {}: {}\".format(key, values[-1])\n",
    "    plot[key].legend([legend], fontsize=12)\n",
    "    if i:\n",
    "        plot[key].get_xaxis().set_visible(False)\n",
    "plt.show()\n",
    "\n",
    "report_template = \"\"\"\n",
    "{key}\n",
    "-------------\n",
    "{value}\"\"\"\n",
    "text = \"\\n\".join(\n",
    "    [report_template.format(key=key, value=log[key][-1])\n",
    "     for i, key in enumerate(print_keys)]\n",
    ")\n",
    "print(text)"
   ]
  }
 ],
 "metadata": {
  "kernelspec": {
   "display_name": "Python 3",
   "language": "python",
   "name": "python3"
  },
  "language_info": {
   "codemirror_mode": {
    "name": "ipython",
    "version": 3
   },
   "file_extension": ".py",
   "mimetype": "text/x-python",
   "name": "python",
   "nbconvert_exporter": "python",
   "pygments_lexer": "ipython3",
   "version": "3.6.4"
  }
 },
 "nbformat": 4,
 "nbformat_minor": 2
}
