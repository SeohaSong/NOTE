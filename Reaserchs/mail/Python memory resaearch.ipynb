{
 "cells": [
  {
   "cell_type": "markdown",
   "metadata": {},
   "source": [
    "# 메모리 탐구"
   ]
  },
  {
   "cell_type": "code",
   "execution_count": 506,
   "metadata": {},
   "outputs": [
    {
     "name": "stdout",
     "output_type": "stream",
     "text": [
      "Case of [n == 1]\n",
      "[('float', 24), ('int', 28), ('str', 50), ('tuple', 56), ('list', 96), ('set', 224), ('dict', 240)]\n",
      "Case of [n == 2]\n",
      "[('float', 24), ('int', 28), ('str', 51), ('tuple', 64), ('list', 96), ('set', 224), ('dict', 240)]\n",
      "Case of [n == 3]\n",
      "[('float', 24), ('int', 28), ('str', 52), ('tuple', 72), ('list', 96), ('set', 224), ('dict', 240)]\n",
      "Case of [n == 4]\n",
      "[('float', 24), ('int', 28), ('str', 53), ('tuple', 80), ('list', 96), ('set', 224), ('dict', 240)]\n",
      "Case of [n == 5]\n",
      "[('float', 24), ('int', 28), ('str', 54), ('tuple', 88), ('list', 128), ('dict', 240), ('set', 736)]\n",
      "Case of [n == 6]\n",
      "[('float', 24), ('int', 28), ('str', 55), ('tuple', 96), ('list', 128), ('dict', 368), ('set', 736)]\n",
      "Case of [n == 7]\n",
      "[('float', 24), ('int', 28), ('str', 56), ('tuple', 104), ('list', 128), ('dict', 368), ('set', 736)]\n",
      "Case of [n == 8]\n",
      "[('float', 24), ('int', 28), ('str', 57), ('tuple', 112), ('list', 128), ('dict', 368), ('set', 736)]\n",
      "Case of [n == 9]\n",
      "[('float', 24), ('int', 28), ('str', 58), ('tuple', 120), ('list', 192), ('dict', 368), ('set', 736)]\n",
      "Case of [n == 10]\n",
      "[('float', 24), ('int', 28), ('str', 59), ('tuple', 128), ('list', 192), ('dict', 368), ('set', 736)]\n"
     ]
    }
   ],
   "source": [
    "import sys\n",
    "import re\n",
    "\n",
    "\n",
    "def sort_key(key):\n",
    "    return memory[key]\n",
    "\n",
    "def value_type(value):\n",
    "    s = str(type(value))\n",
    "    return re.compile(\".*\\'(.+)\\'.*\").findall(s)[0]\n",
    "\n",
    "def report_memory_usage(n):\n",
    "\n",
    "    l = [str(i) for i in range(1, n+1)]\n",
    "    memory = {}\n",
    "\n",
    "    v = n\n",
    "    memory[value_type(v)] = sys.getsizeof(v)\n",
    "    v = float(n)\n",
    "    memory[value_type(v)] = sys.getsizeof(v)\n",
    "    v = \"a\"*n\n",
    "    memory[value_type(v)] = sys.getsizeof(v)\n",
    "    v = l\n",
    "    memory[value_type(v)] = sys.getsizeof(v)\n",
    "    v = tuple(l) # 넘파이랑 같은 양상\n",
    "    memory[value_type(v)] = sys.getsizeof(v)\n",
    "    v = {i: None for i in l}\n",
    "    memory[value_type(v)] = sys.getsizeof(v)\n",
    "    v = set(l)\n",
    "    memory[value_type(v)] = sys.getsizeof(v)\n",
    "\n",
    "    ranking = sorted(memory.keys(), key=lambda key: memory[key])\n",
    "    report = [(key, memory[key]) for key in ranking]\n",
    "    \n",
    "    print(\"Case of [n == {}]\".format(n))\n",
    "    print(report)\n",
    "    \n",
    "\n",
    "for i in range(10):\n",
    "    report_memory_usage(i+1)"
   ]
  },
  {
   "cell_type": "markdown",
   "metadata": {},
   "source": [
    "# Set 탐구"
   ]
  },
  {
   "cell_type": "code",
   "execution_count": 137,
   "metadata": {},
   "outputs": [
    {
     "name": "stdout",
     "output_type": "stream",
     "text": [
      "[4, 16, 64, 256, 659]\n"
     ]
    }
   ],
   "source": [
    "l = [sys.getsizeof(set([i_ for i_ in range(i)]))\n",
    "     for i in range(1, 1000)]\n",
    "s = set(l)\n",
    "d = {v: 0 for v in s}\n",
    "for v in l:\n",
    "    d[v] += 1\n",
    "report = [d[key] for key in sorted(d.keys())]\n",
    "print(report)"
   ]
  },
  {
   "cell_type": "markdown",
   "metadata": {},
   "source": [
    "# List 탐구"
   ]
  },
  {
   "cell_type": "code",
   "execution_count": 139,
   "metadata": {},
   "outputs": [
    {
     "name": "stdout",
     "output_type": "stream",
     "text": [
      "[4, 4, 8, 9, 10, 11, 12, 14, 16, 18, 20, 22, 25, 28, 32, 36, 40, 45, 51, 57, 64, 72, 81, 92, 103, 116, 9]\n"
     ]
    }
   ],
   "source": [
    "l = [sys.getsizeof([i_ for i_ in range(i)])\n",
    "     for i in range(1, 1000)]\n",
    "s = set(l)\n",
    "d = {v: 0 for v in s}\n",
    "for v in l:\n",
    "    d[v] += 1\n",
    "report = [d[key] for key in sorted(d.keys())]\n",
    "print(report)"
   ]
  },
  {
   "cell_type": "markdown",
   "metadata": {},
   "source": [
    "# Dictionary 탐구"
   ]
  },
  {
   "cell_type": "code",
   "execution_count": 142,
   "metadata": {},
   "outputs": [
    {
     "name": "stdout",
     "output_type": "stream",
     "text": [
      "[5, 5, 11, 21, 43, 85, 171, 341, 317]\n"
     ]
    }
   ],
   "source": [
    "l = [sys.getsizeof({i_: i_ for i_ in range(i)})\n",
    "     for i in range(1, 1000)]\n",
    "s = set(l)\n",
    "d = {v: 0 for v in s}\n",
    "for v in l:\n",
    "    d[v] += 1\n",
    "report = [d[key] for key in sorted(d.keys())]\n",
    "print(report)"
   ]
  },
  {
   "cell_type": "markdown",
   "metadata": {},
   "source": [
    "# Int 탐구"
   ]
  },
  {
   "cell_type": "code",
   "execution_count": 259,
   "metadata": {},
   "outputs": [
    {
     "name": "stdout",
     "output_type": "stream",
     "text": [
      "[30, 30, 30, 30, 30, 30, 30, 30, 30, 30, 30, 30, 30, 30, 30, 30, 30, 30, 30, 30, 30, 30, 30, 30, 30, 30, 30, 30, 30, 30, 30, 30, 30, 10]\n"
     ]
    }
   ],
   "source": [
    "l = [sys.getsizeof(int(2**i)) for i in range(1000)]\n",
    "s = set(l)\n",
    "d = {v: 0 for v in s}\n",
    "for v in l:\n",
    "    d[v] += 1\n",
    "report = [d[key] for key in sorted(d.keys())]\n",
    "\n",
    "print(report)"
   ]
  },
  {
   "cell_type": "code",
   "execution_count": null,
   "metadata": {},
   "outputs": [],
   "source": []
  }
 ],
 "metadata": {
  "kernelspec": {
   "display_name": "Python 3",
   "language": "python",
   "name": "python3"
  },
  "language_info": {
   "codemirror_mode": {
    "name": "ipython",
    "version": 3
   },
   "file_extension": ".py",
   "mimetype": "text/x-python",
   "name": "python",
   "nbconvert_exporter": "python",
   "pygments_lexer": "ipython3",
   "version": "3.6.4"
  }
 },
 "nbformat": 4,
 "nbformat_minor": 2
}
