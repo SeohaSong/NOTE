{
 "cells": [
  {
   "cell_type": "code",
   "execution_count": 1,
   "metadata": {},
   "outputs": [],
   "source": [
    "import datetime\n",
    "import json\n",
    "import requests\n",
    "from bs4 import BeautifulSoup\n",
    "import pandas as pd\n",
    "import os\n",
    "\n",
    "                                \n",
    "class Report():\n",
    "    \n",
    "    class _Dic2obj():\n",
    "        def __init__(self, dic):\n",
    "            for key in dic:\n",
    "                value = dic[key]\n",
    "                if type(value) == dict:\n",
    "                    obj = Report._Dic2obj(value)\n",
    "                    setattr(self, key, obj)\n",
    "                else:\n",
    "                    setattr(self, key, value)\n",
    "    \n",
    "    def __init__(self, db_path):\n",
    "        \n",
    "        self.source_path = os.path.join(db_path, \"source\")\n",
    "        with open(os.path.join(db_path, \"reference.json\")) as f:\n",
    "            self.ref = self._Dic2obj(json.load(f))\n",
    "        with open(os.path.join(db_path, \"coin_list.json\")) as f:\n",
    "            coins = json.load(f)\n",
    "        with open(os.path.join(db_path, \"template.json\")) as f:\n",
    "            template = json.load(f)\n",
    "        \n",
    "        self.current_time = (datetime.datetime.now()\n",
    "                             .strftime(\"%Y-%m-%d %H:%M:%S\"))\n",
    "        self.coins = sorted(list(\n",
    "            set(sum([coin.split(\"-\") for coin in coins], []))\n",
    "            -{\"BTRX\", \"USDT\"}\n",
    "        ))\n",
    "        self.report = {coin: template.copy() for coin in self.coins}\n",
    "        \n",
    "        self.source = {}\n",
    "        filepath = os.path.join(db_path, \"source\")\n",
    "        self.prev_source = (pd.read_pickle(filepath)\n",
    "                            if os.path.isfile(filepath)\n",
    "                            else {})\n",
    "    \n",
    "    def set_text(self, url):\n",
    "        response = (self.prev_source[url]\n",
    "                    if url in self.prev_source\n",
    "                    else requests.get(url))\n",
    "        self.source.update({url: response})\n",
    "\n",
    "    def get_text(self, url):\n",
    "        return self.source[url].text\n",
    "    \n",
    "    def save_source(self):\n",
    "        pd.to_pickle(self.source, self.source_path)\n",
    "    \n",
    "    def fill_numbers(self):\n",
    "        \n",
    "        coins, source, report = self.coins, self.source, self.report\n",
    "        \n",
    "        site = self.ref.coinmarketcap\n",
    "        self.set_text(site.quick_search)\n",
    "        quick_search = json.loads(self.get_text(site.quick_search))\n",
    "        \n",
    "        blacklist = [\"batcoin\"]\n",
    "        self.quick_search = list(filter(\n",
    "            lambda dic: dic[\"slug\"] not in blacklist,\n",
    "            quick_search\n",
    "        ))\n",
    "        \n",
    "        self.name_map = {dic[\"symbol\"]: dic[\"slug\"]\n",
    "                         for dic in self.quick_search}\n",
    "        self.urls = {coin: site.currencies+self.name_map[coin]\n",
    "                     for coin in coins}\n",
    "        for coin in coins:\n",
    "            self.set_text(self.urls[coin])\n",
    "            \n",
    "        self.save_source()        \n",
    "        \n",
    "        urls = self.urls\n",
    "        for coin in coins:\n",
    "            text = self.get_text(urls[coin])\n",
    "            bs = BeautifulSoup(text, \"lxml\")\n",
    "            selector = \"span[data-currency-volume]\"\n",
    "            value = bs.select_one(selector)[\"data-usd\"]\n",
    "            report[coin][\"Daily liquidity\"] = float(value)\n",
    "            selector = \"span[data-currency-market-cap]\"\n",
    "            value = bs.select_one(selector)[\"data-usd\"]\n",
    "            report[coin][\"Market cap\"] = float(value)"
   ]
  },
  {
   "cell_type": "code",
   "execution_count": 2,
   "metadata": {},
   "outputs": [],
   "source": [
    "report = Report(\"./db\")\n",
    "report.fill_numbers()"
   ]
  },
  {
   "cell_type": "code",
   "execution_count": 3,
   "metadata": {},
   "outputs": [
    {
     "name": "stdout",
     "output_type": "stream",
     "text": [
      "https://coinmarketcap.com/currencies/cardano\n"
     ]
    }
   ],
   "source": [
    "index = 0\n",
    "coin = list(report.report.keys())[index]\n",
    "print(report.urls[coin])\n",
    "\n",
    "report.report[coin][\"Summary\"] = \"\"\"\n",
    "\"\"\"\n",
    "report.report[coin][\"Base algorithm\"] = \"\"\n",
    "report.report[coin][\"Mining\"] = \"\""
   ]
  },
  {
   "cell_type": "code",
   "execution_count": null,
   "metadata": {},
   "outputs": [],
   "source": []
  }
 ],
 "metadata": {
  "kernelspec": {
   "display_name": "Python 3",
   "language": "python",
   "name": "python3"
  },
  "language_info": {
   "codemirror_mode": {
    "name": "ipython",
    "version": 3
   },
   "file_extension": ".py",
   "mimetype": "text/x-python",
   "name": "python",
   "nbconvert_exporter": "python",
   "pygments_lexer": "ipython3",
   "version": "3.6.4"
  }
 },
 "nbformat": 4,
 "nbformat_minor": 2
}
